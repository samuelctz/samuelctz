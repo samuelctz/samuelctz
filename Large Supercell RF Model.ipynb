{
 "cells": [
  {
   "cell_type": "markdown",
   "metadata": {},
   "source": [
    "<a id=\"Top\"></a>\n",
    "# **Machine Learning Model to predict Band Gaps and Urbach Tail of Distorted Photoelectronic Structures**"
   ]
  },
  {
   "cell_type": "markdown",
   "metadata": {},
   "source": [
    "All data used are structural poscar files, calculated using DFT. In addition band gaps and absorption spectra are used to train the model.\n"
   ]
  },
  {
   "cell_type": "markdown",
   "metadata": {},
   "source": [
    "## Loading of Libraries and Directories\n",
    "For adjusting Working Directory of POSCAR Structure Files, loading common libraries"
   ]
  },
  {
   "cell_type": "code",
   "execution_count": 1,
   "metadata": {},
   "outputs": [],
   "source": [
    "#Adjust The directory before anything\n",
    "working_directory = \n",
    "poscar_directory_path = \n",
    "features_directory=\n",
    "spectra_directory =\n",
    "\n",
    "import os\n",
    "import re\n",
    "import ast\n",
    "import json\n",
    "import glob\n",
    "import numpy as np\n",
    "import pandas as pd\n",
    "from pymatgen.io.vasp import Poscar\n",
    "from matminer.utils.io import load_dataframe_from_json\n",
    "import matplotlib.pyplot as plt\n",
    "from sklearn.model_selection import RandomizedSearchCV\n",
    "from sklearn.model_selection import train_test_split\n",
    "from sklearn.ensemble import RandomForestRegressor\n",
    "from sklearn.metrics import mean_squared_error\n",
    "from scipy.stats import randint\n",
    "from sklearn.metrics import r2_score\n",
    "from sklearn.preprocessing import StandardScaler"
   ]
  },
  {
   "cell_type": "markdown",
   "metadata": {},
   "source": [
    "### File Labels\n",
    "Creating a df for column names for each Structure, as 'df_label'"
   ]
  },
  {
   "cell_type": "code",
   "execution_count": null,
   "metadata": {},
   "outputs": [],
   "source": [
    "# Pattern to match all POSCAR files\n",
    "file_pattern = os.path.join(poscar_directory_path, \"POSCAR_*\")\n",
    "\n",
    "# Initialize an empty list to store the POSCAR labels\n",
    "poscar_labels = []\n",
    "\n",
    "# Iterate over each file that matches the pattern, sorted to ensure numerical order\n",
    "for i, filepath in enumerate(sorted(glob.glob(file_pattern)), start=1):\n",
    "    # Generate a label for each POSCAR file\n",
    "    label = f\"POSCAR_{i}\"\n",
    "    # Append the label to the list\n",
    "    poscar_labels.append(label)\n",
    "\n",
    "# Convert the list to a DataFrame\n",
    "df_label = pd.DataFrame(poscar_labels, columns=['POSCAR_*'])\n",
    "\n",
    "# Checking\n",
    "print(df_label.head(2))"
   ]
  },
  {
   "cell_type": "markdown",
   "metadata": {},
   "source": [
    "### BandGap\n",
    "Loading Actual BandGap Data into Dataframe\n",
    "\n",
    "This code is different as the data value is in a sentence, hence to extract it, is harder"
   ]
  },
  {
   "cell_type": "code",
   "execution_count": null,
   "metadata": {},
   "outputs": [],
   "source": [
    "import re\n",
    "\n",
    "# Path to your directory containing bandgap files\n",
    "file_path = os.path.join(working_directory,\"extracted_bandgaps/\")\n",
    "\n",
    "# Pattern to match all bandgap_* files\n",
    "file_pattern = os.path.join(file_path, \"bandgap_*\")\n",
    "\n",
    "# Initialize an empty list to store the bandgap values\n",
    "bandgap_values = []\n",
    "\n",
    "# Extract only numerical value from text file\n",
    "x = r\"band gap =\\s*([\\d.]+)\"\n",
    "\n",
    "# Iterate over each file that matches the pattern\n",
    "for filepath in glob.glob(file_pattern):\n",
    "    # Open and read the content of the current bandgap files\n",
    "    with open(filepath, 'r') as file:\n",
    "        content = file.read()\n",
    "        \n",
    "        # Search for the bandgap value using the expression\n",
    "        match = re.search(x, content)\n",
    "        if match:\n",
    "            # Extract the numerical value as a float\n",
    "            bandgap_value = float(match.group(1))\n",
    "            \n",
    "            # Append the bandgap value to the list\n",
    "            bandgap_values.append(bandgap_value)\n",
    "\n",
    "# Convert List to Df\n",
    "gap = pd.DataFrame(bandgap_values, columns=['Bandgap/eV'])\n",
    "\n",
    "output_path = os.path.join(features_directory, \"all_bandgap.csv\")\n",
    "gap.to_csv(output_path, index=False)\n",
    "print(gap.head(2))\n",
    "\n",
    "#Combining the label and bandgap\n",
    "df_target = pd.concat([df_label, gap], axis=1)\n",
    "df_target = pd.DataFrame(df_target)\n",
    "\n",
    "output_path = os.path.join(features_directory, \"label_and_bandgap.csv\")\n",
    "df_target.to_csv(output_path, index=False)\n",
    "# For checking\n",
    "print(df_target.head(2))\n",
    "\n"
   ]
  },
  {
   "cell_type": "markdown",
   "metadata": {},
   "source": [
    "<a id=\"JarvisCFID\"></a>\n",
    "### Jarvis CFID Descriptor\n",
    "\n",
    "Jarvis CFID feature, use_chg= False, use_chem=False, use_cell=False, these values are the constant, \n",
    "use=rdf = False (will use another featurizer separately for radial distribution)"
   ]
  },
  {
   "cell_type": "code",
   "execution_count": null,
   "metadata": {},
   "outputs": [],
   "source": [
    "from matminer.featurizers.structure.composite import JarvisCFID\n",
    "jarvis_cfid= JarvisCFID(use_cell=False, use_chem=False, use_chg=False, use_rdf=False, use_adf=True, use_ddf=True, use_nn=True)\n",
    "\n",
    "# Get the feature labels\n",
    "feature_labels = jarvis_cfid.feature_labels()\n",
    "\n",
    "#temp storage\n",
    "data = []\n",
    "\n",
    "# List all POSCAR files using glob.glob and sort them in numerical order\n",
    "poscar_files = sorted(glob.glob(os.path.join(poscar_directory_path, \"POSCAR_*\")), key=lambda x: int(os.path.basename(x).split('_')[1]))\n",
    "\n",
    "# Load each POSCAR file, convert to Structure, and featurize\n",
    "for poscar_path in poscar_files:\n",
    "    poscar = Poscar.from_file(poscar_path) \n",
    "    s = poscar.structure\n",
    "    CFID_feature = jarvis_cfid.featurize(s)\n",
    "    data.append(CFID_feature)\n",
    "\n",
    "cfid_df = pd.DataFrame(data, columns=feature_labels)\n",
    "\n",
    "output_path = os.path.join(features_directory, \"jcfid.csv\")\n",
    "cfid_df.to_csv(output_path, index=False)\n"
   ]
  },
  {
   "cell_type": "markdown",
   "metadata": {},
   "source": [
    "<a id=\"AFS\"></a>\n",
    "### Angular Fourier Series Descriptor\n",
    "(Doesnt work yet?)\n",
    "Angular Fourier Series: The AFS is the product of pairwise distance function (g_n, g_n’) between two pairs of atoms (sharing the common central site) and the cosine of the angle between the two pairs"
   ]
  },
  {
   "cell_type": "code",
   "execution_count": null,
   "metadata": {},
   "outputs": [],
   "source": [
    "from matminer.featurizers.site.rdf import AngularFourierSeries\n",
    "\n",
    "afs= AngularFourierSeries.from_preset('gaussian')\n",
    "\n",
    "# Get the feature labels\n",
    "feature_labels = afs.feature_labels()\n",
    "data = []\n",
    "# List all POSCAR files using glob.glob and sort them in numerical order\n",
    "poscar_files = sorted(glob.glob(os.path.join(poscar_directory_path, \"POSCAR_*\")), key=lambda x: int(os.path.basename(x).split('_')[1]))\n",
    "\n",
    "# Load each POSCAR file, convert to Structure, and featurize\n",
    "for poscar_path in poscar_files:\n",
    "    poscar = Poscar.from_file(poscar_path)\n",
    "    s = poscar.structure\n",
    "    afs_feature = afs.featurize(s,1)\n",
    "    data.append(afs_feature)\n",
    "\n",
    "afs_df = pd.DataFrame(data, columns=feature_labels)\n",
    "print(afs_df.head())\n",
    "\n",
    "output_path = os.path.join(features_directory, \"afs_feature.csv\")\n",
    "afs_df.to_csv(output_path, index=False)"
   ]
  },
  {
   "cell_type": "markdown",
   "metadata": {},
   "source": [
    "<a id=\"OFM\"></a>\n",
    "### Orbital Field Matrix Descriptor\n",
    "(Does Not work)\n",
    "Orbital Field Matrix. Takes too long to generate features. [8 Sec per Struct, seems like all value are 0]"
   ]
  },
  {
   "cell_type": "code",
   "execution_count": null,
   "metadata": {},
   "outputs": [],
   "source": [
    "from matminer.featurizers.structure.matrix import OrbitalFieldMatrix\n",
    "\n",
    "ofm = OrbitalFieldMatrix(period_tag=True, flatten=True)\n",
    "\n",
    "#Featurizing to get the average OFM of a structure\n",
    "#mean_ofm = ofm.featurize()\n",
    "\n",
    "data =[]\n",
    "# Get the feature labels\n",
    "feature_labels = ofm.feature_labels()\n",
    "\n",
    "# List all POSCAR files using glob.glob and sort them in numerical order\n",
    "poscar_files = sorted(glob.glob(os.path.join(poscar_directory_path, \"POSCAR_*\")), key=lambda x: int(os.path.basename(x).split('_')[1]))\n",
    "\n",
    "# Load each POSCAR file, convert to Structure, and featurize\n",
    "for poscar_path in poscar_files:\n",
    "    poscar = Poscar.from_file(poscar_path)\n",
    "    s = poscar.structure\n",
    "    ofm_feature = ofm.featurize(s)\n",
    "    data.append(ofm_feature)\n",
    "    #Featurizing to get the average OFM of a structure\n",
    "    #mean_ofm = ofm.featurize(s)\n",
    "    \n",
    "ofm_df = pd.DataFrame(data, columns=feature_labels)\n",
    "print(ofm_df.head())\n",
    "output_path = os.path.join(features_directory, \"ofm.csv\")\n",
    "ofm_df.to_csv(output_path, index=False)"
   ]
  },
  {
   "cell_type": "markdown",
   "metadata": {},
   "source": [
    "<a id=\"RDF\"></a>\n",
    "### Radial Distribution Descriptor\n",
    "\n",
    "RadialDistributionFunction Feature (RDF), saved as rdf_df"
   ]
  },
  {
   "cell_type": "code",
   "execution_count": null,
   "metadata": {},
   "outputs": [],
   "source": [
    "from matminer.featurizers.structure.rdf import RadialDistributionFunction\n",
    "\n",
    "rdf = RadialDistributionFunction()\n",
    "\n",
    "# Get the feature labels\n",
    "feature_labels = rdf.feature_labels()\n",
    "data = []\n",
    "\n",
    "# List all POSCAR files using glob.glob and sort them in numerical order\n",
    "poscar_files = sorted(glob.glob(os.path.join(poscar_directory_path, \"POSCAR_*\")), key=lambda x: int(os.path.basename(x).split('_')[1]))\n",
    "\n",
    "# Load each POSCAR file, convert to Structure, and featurize\n",
    "for poscar_path in poscar_files:\n",
    "    poscar = Poscar.from_file(poscar_path)\n",
    "    s=poscar.structure\n",
    "    rdf_feat= rdf.featurize(s)\n",
    "    data.append(rdf_feat)\n",
    "\n",
    "#appending the col labels to its features\n",
    "rdf_df = pd.DataFrame(data, columns=feature_labels)\n",
    "print(rdf_df.head())\n",
    "\n",
    "output_path = os.path.join(features_directory, \"rdf.csv\")\n",
    "rdf_df.to_csv(output_path, index=False)"
   ]
  },
  {
   "cell_type": "markdown",
   "metadata": {},
   "source": [
    "<a id=\"XRD\"></a>\n",
    "### Powder Pattern Descriptor\n",
    "\n",
    "XRD Powder Pattern Feature , Spectra, saved as xrd_df"
   ]
  },
  {
   "cell_type": "code",
   "execution_count": null,
   "metadata": {},
   "outputs": [],
   "source": [
    "from matminer.featurizers.structure.misc import XRDPowderPattern\n",
    "\n",
    "xrd = XRDPowderPattern()\n",
    "feature_labels = xrd.feature_labels()\n",
    "\n",
    "#temp storage\n",
    "data = []\n",
    "\n",
    "# List all POSCAR files using glob.glob and sort them in numerical order\n",
    "poscar_files = sorted(glob.glob(os.path.join(poscar_directory_path, \"POSCAR_*\")), key=lambda x: int(os.path.basename(x).split('_')[1]))\n",
    "\n",
    "# Load each POSCAR file, convert to Structure, and featurize\n",
    "for poscar_path in poscar_files:\n",
    "    poscar = Poscar.from_file(poscar_path)\n",
    "    s=poscar.structure\n",
    "    xrd_featurize= xrd.featurize(s)\n",
    "    data.append(xrd_featurize)\n",
    "\n",
    "#appending the col labels to its features\n",
    "xrd_df=pd.DataFrame(data, columns=feature_labels)\n",
    "\n",
    "#Save xrd_df to Excel\n",
    "output_path = os.path.join(features_directory, \"Xrd_features.csv\")\n",
    "xrd_df.to_csv(output_path, index=False)\n",
    "            "
   ]
  },
  {
   "cell_type": "markdown",
   "metadata": {},
   "source": [
    "<a id=\"mrd\"></a>\n",
    "### Minimum Relative Distance Descriptor\n",
    "\n",
    "MinimumRelativeDistance (MRD) feature, saving these features into 'MRD_dataframe'\n",
    "Takes too long to generate Features"
   ]
  },
  {
   "cell_type": "code",
   "execution_count": null,
   "metadata": {},
   "outputs": [],
   "source": [
    "from matminer.featurizers.structure.bonding import MinimumRelativeDistances\n",
    "\n",
    "MRD = MinimumRelativeDistances(flatten= True)\n",
    "#Creating empty temporary dataframe\n",
    "temp_df = pd.DataFrame(columns=['Min-distance'])\n",
    "\n",
    "# List all POSCAR files using glob.glob and sort them in numerical order\n",
    "poscar_files = sorted(glob.glob(os.path.join(poscar_directory_path, \"POSCAR_*\")), key=lambda x: int(os.path.basename(x).split('_')[1]))\n",
    "\n",
    "# Load each POSCAR file, convert to Structure, and featurize\n",
    "for poscar_path in poscar_files:\n",
    "    poscar = Poscar.from_file(poscar_path)\n",
    "    #structurize the poscar file\n",
    "    s = poscar.structure\n",
    "    MRD.fit([s])\n",
    "    MRD_feat = MRD.featurize(s)\n",
    "    #Extracting on the numerical value for usage\n",
    "    numerical_values = [x for x in MRD_feat if isinstance(x, float)]\n",
    "    #Saving the values in rows, with labels according to the number of minimumdistance between each atom\n",
    "    temp_df_row = pd.DataFrame([numerical_values], columns=[f\"Min-distance ({i})\" for i in range(len(numerical_values))])\n",
    "    temp_df = pd.concat([temp_df, temp_df_row], ignore_index=True)\n",
    "    \n",
    "#removing NA values.\n",
    "MRD_dataframe = temp_df.dropna(axis=1, how='all')\n",
    "print(MRD_dataframe)\n",
    "\n",
    "output_path = os.path.join(features_directory, \"mrd_feature.csv\")\n",
    "mrd_df.to_csv(output_path, index=False)"
   ]
  },
  {
   "cell_type": "markdown",
   "metadata": {},
   "source": [
    "### Sine Coulomb Matrix Featurizer Steps\n",
    "#### Sine Coulomb Matrix Step (1)\n",
    "\n",
    "Sine Coulomb Matrix Feature saved into a Dataframe called 'sine_dataframe', Storing it in h5 file as it is too large for Excel"
   ]
  },
  {
   "cell_type": "code",
   "execution_count": null,
   "metadata": {},
   "outputs": [],
   "source": [
    "from matminer.featurizers.structure.matrix import SineCoulombMatrix\n",
    "import h5py  # Import h5py for working with HDF5 format\n",
    "\n",
    "# Output HDF5 file path\n",
    "hdf5_file_path = os.path.join(features_directory, 'sine_coulomb_features.h5')\n",
    "\n",
    "# Initialize the SineCoulombMatrix featurizer with flatten=False to get the matrix form\n",
    "sine_featurizer = SineCoulombMatrix(flatten=False)\n",
    "\n",
    "# Open or create the HDF5 file\n",
    "with h5py.File(hdf5_file_path, 'w') as hdf5_file:\n",
    "    # List all POSCAR files using glob.glob and sort them in numerical order\n",
    "    poscar_files = sorted(glob.glob(os.path.join(poscar_directory_path, \"POSCAR_*\")), key=lambda x: int(os.path.basename(x).split('_')[1]))\n",
    "\n",
    "    # Load each POSCAR file, convert to Structure, and featurize\n",
    "    for poscar_path in poscar_files:\n",
    "        # Extract the structure number from the filename for use in the dataset name\n",
    "        structure_num = os.path.basename(poscar_path).split('_')[1]\n",
    "\n",
    "        poscar = Poscar.from_file(poscar_path)\n",
    "        s = poscar.structure\n",
    "        \n",
    "        # Featurize the structure, into sine_matrix. Alteration can be done on this sine_matrix\n",
    "        sine_matrix = sine_featurizer.featurize(s)[0]\n",
    "        \n",
    "        # Flatten the sine matrix\n",
    "        flattened_matrix = sine_matrix.flatten()\n",
    "        \n",
    "        # Store the flattened matrix in the HDF5 file\n",
    "        hdf5_file.create_dataset(f'structure_{structure_num}', data=flattened_matrix)\n",
    "\n",
    "print(f\"Featurization complete, data stored in HDF5 format: {hdf5_file_path}\")\n"
   ]
  },
  {
   "cell_type": "markdown",
   "metadata": {},
   "source": [
    "#### Sine Coulomb Matrix Step (2A - Finding Eigenvalue , Skip to next feature)\n",
    "Eigenvalue of Sine_matrix to reduce dimensionality of matrix"
   ]
  },
  {
   "cell_type": "code",
   "execution_count": null,
   "metadata": {},
   "outputs": [],
   "source": [
    "# Initialize the SineCoulombMatrix featurizer with flatten=False to get the matrix form\n",
    "sine_featurizer = SineCoulombMatrix(flatten=False)\n",
    "\n",
    "# Initialize a list to collect all eigenvalues, each set of eigenvalues will be a list\n",
    "all_eigenvalues = []\n",
    "\n",
    "# List all POSCAR files using glob.glob and sort them in numerical order\n",
    "poscar_files = sorted(glob.glob(os.path.join(poscar_directory_path, \"POSCAR_*\")), key=lambda x: int(os.path.basename(x).split('_')[1]))\n",
    "\n",
    "# Load each POSCAR file, convert to Structure, and featurize\n",
    "for poscar_path in poscar_files:\n",
    "    # Extract the structure number from the filename for use in the dataset name\n",
    "    structure_num = os.path.basename(poscar_path).split('_')[1]\n",
    "\n",
    "    poscar = Poscar.from_file(poscar_path)\n",
    "    s = poscar.structure\n",
    "    \n",
    "    # Featurize the structure into sine_matrix\n",
    "    sine_matrix_df = sine_featurizer.featurize(s)[0]\n",
    "    \n",
    "    # Convert the DataFrame to a numpy array if sine_matrix is a DataFrame\n",
    "    sine_matrix = sine_matrix_df.values if isinstance(sine_matrix_df, pd.DataFrame) else sine_matrix_df\n",
    "\n",
    "    # Compute eigenvalues of the sine matrix\n",
    "    eigenvalues = np.linalg.eigvals(sine_matrix)\n",
    "    \n",
    "    # Since eigenvalues might be complex, take their absolute values if necessary\n",
    "    abs_eigenvalues = np.abs(eigenvalues)\n",
    "\n",
    "    # Append the eigenvalues (as a list) to our collection\n",
    "    all_eigenvalues.append(abs_eigenvalues)\n",
    "\n",
    "#In case number of Eigenvalues differ from structure to structure\n",
    "# Find the maximum number of eigenvalues in any set\n",
    "max_columns = max(len(eig) for eig in all_eigenvalues)\n",
    "\n",
    "# Generate column names based on the maximum number found\n",
    "column_names = [f'E_{i+1}' for i in range(max_columns)]\n",
    "\n",
    "# Create a DataFrame, allowing shorter lists to have NA for missing values\n",
    "eigenvalues_sine_df = pd.DataFrame(all_eigenvalues, columns=column_names)\n",
    "\n",
    "# Save the DataFrame to an Excel file\n",
    "eigenvalues_sine_df.to_csv(os.path.join(features_directory,'eigenvalue_SCM.csv'), index=False)"
   ]
  },
  {
   "cell_type": "markdown",
   "metadata": {},
   "source": [
    "#### Sine Coulomb Matrix Step (2B - Removing Diagonals)\n",
    "Data adjustment complete and original HDF5 file overwritten (No need this, unless not using Eigenvalues of SineMatrix)"
   ]
  },
  {
   "cell_type": "code",
   "execution_count": null,
   "metadata": {},
   "outputs": [],
   "source": [
    "# Define the HDF5 file path for both reading and writing\n",
    "hdf5_file_path = os.path.join(features_directory, \"sine_coulomb_features.h5\")\n",
    "\n",
    "def remove_diagonals_from_flattened(flattened_matrix, matrix_size):\n",
    "    square_matrix = flattened_matrix.reshape(matrix_size, matrix_size)\n",
    "    np.fill_diagonal(square_matrix, np.nan)\n",
    "    return square_matrix[~np.isnan(square_matrix)]\n",
    "\n",
    "# Temporary storage for adjusted data\n",
    "temp_data = {}\n",
    "\n",
    "# First pass: Read from the HDF5 file and process the data\n",
    "with h5py.File(hdf5_file_path, 'r') as hdf5_file:\n",
    "    for structure_name in hdf5_file:\n",
    "        structure_data = hdf5_file[structure_name][:]\n",
    "        matrix_size = int(np.sqrt(structure_data.size))\n",
    "        no_diagonals = remove_diagonals_from_flattened(structure_data, matrix_size)\n",
    "        temp_data[structure_name] = no_diagonals\n",
    "\n",
    "# Second pass: Overwrite the HDF5 file with the adjusted data\n",
    "with h5py.File(hdf5_file_path, 'w') as hdf5_file:\n",
    "    for structure_name, no_diagonals in temp_data.items():\n",
    "        hdf5_file.create_dataset(structure_name, data=no_diagonals)\n",
    "\n",
    "print(\"Data adjustment complete and original HDF5 file overwritten.\")\n"
   ]
  },
  {
   "cell_type": "markdown",
   "metadata": {},
   "source": [
    "\n",
    "### Density Feature Descriptor\n",
    "\n",
    "Density feature to obtain: ' Density, Vol Per Atom, Packing fract' and saving this Dataframe into density_dataframe"
   ]
  },
  {
   "cell_type": "code",
   "execution_count": null,
   "metadata": {},
   "outputs": [],
   "source": [
    "from matminer.featurizers.structure import DensityFeatures\n",
    "df_feat = DensityFeatures()\n",
    "#df_feat.feature_labels() # 3 Values of these labels\n",
    "#['density', 'volume per atom, vpa', 'packing fraction']\n",
    "density_names = df_feat.feature_labels()\n",
    "\n",
    "density_list=[]\n",
    "\n",
    "# List all POSCAR files using glob.glob and sort them in numerical order\n",
    "poscar_files = sorted(glob.glob(os.path.join(poscar_directory_path, \"POSCAR_*\")), key=lambda x: int(os.path.basename(x).split('_')[1]))\n",
    "\n",
    "# Load each POSCAR file, convert to Structure, and featurize\n",
    "for poscar_path in poscar_files:\n",
    "    poscar = Poscar.from_file(poscar_path)\n",
    "    s=poscar.structure\n",
    "    df= df_feat.featurize(s)\n",
    "    \n",
    "    #Adding labels to the feature data\n",
    "    density = dict(zip(density_names, df))\n",
    "    \n",
    "    #Saving Density Feature (densityf_list)\n",
    "    density_list.append(density)\n",
    "    \n",
    "#Saving it into Excel\n",
    "density_dataframe = pd.DataFrame(density_list)\n",
    "output_path = os.path.join(features_directory, 'density_features.csv')\n",
    "density_dataframe.to_csv(output_path,index = False)\n",
    "print(density_dataframe.head())\n"
   ]
  },
  {
   "cell_type": "markdown",
   "metadata": {},
   "source": [
    "<a id=\"ewald\"></a>\n",
    "### Ewald Sum Matrix Descriptor\n",
    "\n",
    "EwaldSumMatrix Feature, saved as ESM_Summation.csv .\n",
    "Adjust \"n_atoms_max\" to the no. atoms in the structure"
   ]
  },
  {
   "cell_type": "code",
   "execution_count": null,
   "metadata": {},
   "outputs": [],
   "source": [
    "from dscribe.descriptors import EwaldSumMatrix\n",
    "from ase.io import read\n",
    "\n",
    "# Initialize descriptors\n",
    "esm = EwaldSumMatrix(n_atoms_max=192) \n",
    "#Empty atoms will be filled with zeros, 96 Gallium 96 Nitrite. adjust accordingly if required\n",
    "\n",
    "# List all POSCAR files using glob.glob and sort them in numerical order\n",
    "poscar_files = sorted(glob.glob(os.path.join(poscar_directory_path, \"POSCAR_*\")), key=lambda x: int(os.path.basename(x).split('_')[1]))\n",
    "\n",
    "# Initialize a list to store sums of values above the diagonal for each matrix\n",
    "data = []\n",
    "\n",
    "# Load each POSCAR file, convert to Pymatgen Structure to Atomic Positioning and then Ewald sum matrix\n",
    "for poscar_path in poscar_files:\n",
    "    # Read the structure using ASE\n",
    "    s = read(poscar_path)\n",
    "\n",
    "    # Create the Ewald sum matrix\n",
    "    ewald_matrix = esm.create(s)\n",
    "    ewald_matrix = esm.unflatten(ewald_matrix)\n",
    "\n",
    "    # Calculate the sum of elements above the diagonal, including the diagonal\n",
    "    sum_above_diagonal = np.sum(np.triu(ewald_matrix, k=0))\n",
    "    \n",
    "    # Append the file name and sum to the data list\n",
    "    data.append({\n",
    "        \"ESM\": sum_above_diagonal\n",
    "    })\n",
    "\n",
    "# Create DataFrame from the collected data\n",
    "esm_df = pd.DataFrame(data)\n",
    "\n",
    "# Save the DataFrame to CSV\n",
    "esm_df.to_csv(os.path.join(features_directory, 'ESM_Summation.csv'), index=False)"
   ]
  },
  {
   "cell_type": "markdown",
   "metadata": {},
   "source": [
    "<a id=\"soap\"></a>\n",
    "### SOAP Descriptor\n",
    "\n",
    "Smooth Overlap of Atomic Positions (SOAP) descriptor"
   ]
  },
  {
   "cell_type": "code",
   "execution_count": null,
   "metadata": {},
   "outputs": [],
   "source": [
    "from ase.io import read\n",
    "from dscribe.descriptors import SOAP\n",
    "\n",
    "species = [\"Ga\", \"N\"] #Listing all elements\n",
    "r_cut = 2 # cutoff for local region in angstroms. Should be bigger than 1 angstrom for the gto-basis\n",
    "n_max = 1 # The number of radial basis functions\n",
    "l_max = 1 # The maximum degree of spherical harmonics.\n",
    "\n",
    "# Setting up the SOAP descriptor\n",
    "soap = SOAP(\n",
    "    species=species,\n",
    "    periodic=True,  # Set to True if you want the descriptor output to respect the periodicity of the atomic systems\n",
    "    average = 'inner',\n",
    "    r_cut=r_cut,\n",
    "    n_max=n_max,\n",
    "    l_max=l_max,\n",
    ")\n",
    "\n",
    "# List all POSCAR files using glob.glob and sort them in numerical order\n",
    "poscar_files = sorted(glob.glob(os.path.join(poscar_directory_path, \"POSCAR_*\")), key=lambda x: int(os.path.basename(x).split('_')[1]))\n",
    "\n",
    "# Initialize a list to store sums of values above the diagonal for each matrix\n",
    "data = []\n",
    "\n",
    "# Load each POSCAR file, convert to Pymatgen Structure to Atomic Positioning and then Ewald sum matrix\n",
    "for poscar_path in poscar_files:\n",
    "    # Read the structure using ASE\n",
    "    s = read(poscar_path)\n",
    "    \n",
    "    f = soap.create(s)\n",
    "    \n",
    "    label = {}\n",
    "    for i, value in enumerate(f):  #Generate Labels for SOAP Descriptor\n",
    "        label[f'Soap_{i+1}'] = value\n",
    "    \n",
    "    # Append the descriptors and the filename to the data list\n",
    "    data.append(label)\n",
    "\n",
    "# Convert list to DataFrame\n",
    "soap_df = pd.DataFrame(data)\n",
    "\n",
    "# Saving the DataFrame to a CSV file\n",
    "soap_df.to_csv(os.path.join(features_directory, 'SOAP_Descriptors.csv'), index=False)\n",
    "\n",
    "print(\"All SOAP descriptors have been calculated and saved.\")\n"
   ]
  },
  {
   "cell_type": "markdown",
   "metadata": {},
   "source": [
    "<a id=\"Feature-Collation\"></a>\n",
    "### Feature Collation\n",
    "\n",
    "Collating the DataFrames and saving onto Excel as <strong> 'combined_features.csv' </strong>"
   ]
  },
  {
   "cell_type": "code",
   "execution_count": null,
   "metadata": {},
   "outputs": [],
   "source": [
    "#Combining DF along its rows, assuming all DF has same number of rows\n",
    "#Take note, Density features not included\n",
    "\n",
    "dataframes = [df_target, eigenvalues_sine_df, cfid_df, rdf_df, xrd_df, esm_df, soap_df]\n",
    "\n",
    "#Realign if eigenvalue_df indexes are not aligned\n",
    "aligned_dfs = [df.reset_index(drop=True) for df in dataframes]\n",
    "features_df = pd.concat(aligned_dfs, axis=1)\n",
    "\n",
    "# Define the path where you want to save the excel file\n",
    "output_path = os.path.join(features_directory,'combined_features.csv')\n",
    "\n",
    "# Save the combined DataFrame \n",
    "features_df.to_csv(output_path,index=True)\n",
    "\n",
    "print(features_df.head(2))"
   ]
  },
  {
   "cell_type": "markdown",
   "metadata": {},
   "source": [
    "<a id=\"Individual-Feature-Loading\"></a>\n",
    "## Feature Loading\n",
    "\n",
    "##### Individual features\n",
    "Loading Individual Dataframe from file (Faster, if features already generated)"
   ]
  },
  {
   "cell_type": "code",
   "execution_count": 2,
   "metadata": {},
   "outputs": [
    {
     "name": "stdout",
     "output_type": "stream",
     "text": [
      "df_target colummn: 1\n",
      "Jarvis cfid_df colummn: 636\n",
      "XRD Powder Pattern colummn: 127\n",
      "Radial Distribution colummn: 199\n",
      "SCM Eigenvalues colummn: 191\n",
      "Ewald Sum Matrix colummn: 0\n",
      "SOAP_Descriptor colummn: 5\n"
     ]
    }
   ],
   "source": [
    "#Loading individual Features from their respective Excel.\n",
    "#Run * if loading sinecoulombmatrix 's h5 file see next line\n",
    "\n",
    "df_target = pd.read_csv(os.path.join(features_directory,'label_and_bandgap.csv'),index_col=0)\n",
    "print('df_target colummn:', len(df_target.columns)) #2\n",
    "\n",
    "#density_dataframe = pd.read_csv(os.path.join(features_directory,'density_features.csv'),index_col=0)\n",
    "#print('density colummn:' len(density_dataframe.columns)) #3\n",
    "\n",
    "cfid_df = pd.read_csv(os.path.join(features_directory,'jcfid.csv'),index_col=0)\n",
    "print('Jarvis cfid_df colummn:', len(cfid_df.columns))\n",
    "#adf1 (179), adf2 (179), ddf (179), nn (100)\n",
    "\n",
    "xrd_df = pd.read_csv(os.path.join(features_directory,'Xrd_features.csv'),index_col=0)\n",
    "print('XRD Powder Pattern colummn:', len(xrd_df.columns)) #128\n",
    "\n",
    "rdf_df = pd.read_csv(os.path.join(features_directory,'rdf.csv'),index_col=0)\n",
    "print('Radial Distribution colummn:', len(rdf_df.columns)) #200\n",
    "\n",
    "eigenvalues_sine_df = pd.read_csv(os.path.join(features_directory,'eigenvalue_SCM.csv'),index_col=0)\n",
    "print('SCM Eigenvalues colummn:', len(eigenvalues_sine_df.columns)) #192\n",
    "\n",
    "esm_df = pd.read_csv(os.path.join(features_directory,'ESM_Summation.csv'),index_col=0)\n",
    "print('Ewald Sum Matrix colummn:', len(esm_df.columns)) #1\n",
    "\n",
    "soap_df= pd.read_csv(os.path.join(features_directory,'SOAP_Descriptors.csv'),index_col=0)\n",
    "print('SOAP_Descriptor colummn:', len(soap_df.columns)) #6\n",
    "\n",
    "#No. Columns will be useful when splicing for cross-validation to see features' \"Importance\"\n",
    "\n",
    "#would need to write in the additional features that may have been left out"
   ]
  },
  {
   "cell_type": "markdown",
   "metadata": {},
   "source": [
    "##### Preloading SinecoulumbMatrix if required\n",
    "*Loading the HDF5 data back onto a Dataframe, \"Sine_dataframe\" (Continuation of previous code, not needed unless Eigenvalues are not used)"
   ]
  },
  {
   "cell_type": "code",
   "execution_count": null,
   "metadata": {},
   "outputs": [],
   "source": [
    "# Specify the HDF5 file path\n",
    "hdf5_file_path = os.path.join(features_directory, \"sine_coulomb_features.h5\")\n",
    "\n",
    "# Initialize a list to hold the data\n",
    "data = []\n",
    "\n",
    "# Open the HDF5 file in read mode\n",
    "with h5py.File(hdf5_file_path, 'r') as hdf5_file:\n",
    "    # Iterate through each dataset in the file\n",
    "    for structure_name in hdf5_file:\n",
    "        # Read the data for the current structure\n",
    "        structure_data = hdf5_file[structure_name][:]\n",
    "        \n",
    "        # Append the flattened matrix (or processed data) to the data list\n",
    "        data.append(structure_data)\n",
    "\n",
    "# Convert the list of data into a DataFrame\n",
    "# Here, each row represents a structure, and each column represents a feature\n",
    "sine_dataframe = pd.DataFrame(data)\n",
    "\n",
    "#Name the columns\n",
    "num_features = sine_dataframe.shape[1]  # Number of features in your dataset\n",
    "sine_dataframe.columns = [f'SCM_{i}' for i in range(1, num_features + 1)]\n",
    "\n",
    "# Now you have a DataFrame containing the data extracted from the HDF5 file\n",
    "print(sine_dataframe.tail())\n"
   ]
  },
  {
   "cell_type": "markdown",
   "metadata": {},
   "source": [
    "##### Preloading Combined Feature\n",
    "Loading Overall Combined Feature Dataframe from file (Faster, if features already generated)"
   ]
  },
  {
   "cell_type": "code",
   "execution_count": 4,
   "metadata": {},
   "outputs": [
    {
     "name": "stdout",
     "output_type": "stream",
     "text": [
      "       POSCAR_*  Bandgap/eV          E_1          E_2          E_3  \\\n",
      "637  POSCAR_638    1.515942  6558.453712  2857.792101  2846.674638   \n",
      "\n",
      "             E_4         E_5          E_6          E_7          E_8  ...  \\\n",
      "637  2392.385447  2390.50386  2381.183621  2385.494818  2174.469444  ...   \n",
      "\n",
      "      xrd_125   xrd_126   xrd_127           ESM    Soap_1    Soap_2    Soap_3  \\\n",
      "637  0.000269  0.000032  0.000002 -51976.528636  4.749437  0.000008  4.749144   \n",
      "\n",
      "       Soap_4    Soap_5    Soap_6  \n",
      "637 -0.000008  4.748851  0.000008  \n",
      "\n",
      "[1 rows x 1166 columns]\n",
      "0        POSCAR_1\n",
      "1        POSCAR_2\n",
      "2        POSCAR_3\n",
      "3        POSCAR_4\n",
      "4        POSCAR_5\n",
      "          ...    \n",
      "633    POSCAR_634\n",
      "634    POSCAR_635\n",
      "635    POSCAR_636\n",
      "636    POSCAR_637\n",
      "637    POSCAR_638\n",
      "Name: POSCAR_*, Length: 638, dtype: object\n"
     ]
    }
   ],
   "source": [
    "# Define the path to your featurize parameters file\n",
    "output_path = os.path.join(features_directory,'combined_features.csv')\n",
    "\n",
    "# Load the DataFrame from the excel file\n",
    "features_df = pd.read_csv(output_path,index_col=0)\n",
    "\n",
    "#Now, `features_df` contains the DataFrame loaded from the excel file\n",
    "print(features_df.tail(1))\n",
    "print(features_df.iloc[:, 0])"
   ]
  },
  {
   "cell_type": "markdown",
   "metadata": {},
   "source": [
    "##### Optional step\n",
    "This step is **[Optional]** as lower band gaps have higher discrepancies\n",
    "\n",
    "Removing the lowest 50 Band gap values, It overwrites so do not run this multiple times , else reload the feature_df."
   ]
  },
  {
   "cell_type": "code",
   "execution_count": null,
   "metadata": {},
   "outputs": [],
   "source": [
    "# Sort the DataFrame by 'Bandgap/eV' in ascending order\n",
    "gap_sorted = features_df.sort_values(by='Bandgap/eV')\n",
    "\n",
    "# Drop the first 50 rows\n",
    "features_df = gap_sorted.iloc[50:]\n",
    "\n",
    "# Reset the index for the new DataFrame and drop the old index\n",
    "features_df.reset_index(drop=True, inplace=True)\n",
    "\n",
    "# Now 'gap_filtered' is your DataFrame without the 50 lowest bandgap values\n",
    "print(features_df.head())"
   ]
  },
  {
   "cell_type": "markdown",
   "metadata": {},
   "source": [
    "## Modelling to predict Band Gap\n",
    "\n",
    "Using the features generated above as predictors to predict the band gap\n",
    "#### Train Test Data Set Split\n",
    "80-20 split"
   ]
  },
  {
   "cell_type": "code",
   "execution_count": null,
   "metadata": {},
   "outputs": [],
   "source": [
    "from sklearn.model_selection import train_test_split\n",
    "from sklearn.metrics import mean_squared_error\n",
    "\n",
    "#selecting training variable (X) and test variable (y)\n",
    "X = features_df.iloc[:,2:] # Starting from 2nd column which is after Band gap\n",
    "y = features_df['Bandgap/eV'] #Value to predict\n",
    "\n",
    "print(X.head(1)) #Check if X is correct\n",
    "\n",
    "#Splitting dataset into training and testing (80% Train, 20% Test)\n",
    "X_train, X_test, y_train, y_test = train_test_split(X,y, test_size=0.2, random_state=100)"
   ]
  },
  {
   "cell_type": "markdown",
   "metadata": {},
   "source": [
    "### Training Model without hypertuning\n",
    "Training Model using SciKit Learn on Dataframe 'features_df', without tuning. (can be skipped)"
   ]
  },
  {
   "cell_type": "code",
   "execution_count": 7,
   "metadata": {},
   "outputs": [
    {
     "name": "stdout",
     "output_type": "stream",
     "text": [
      "Root Mean Squared Error on Default Test Set: 0.0391540550450819 eV\n",
      "Test R² Score: 0.42068\n",
      "Root Mean Squared Error on Default Train Set: 0.016712434507854534 eV\n",
      "Training R² Score: 0.90376\n"
     ]
    }
   ],
   "source": [
    "from sklearn.ensemble import RandomForestRegressor\n",
    "\n",
    "# Training Random Forest model\n",
    "rf_model = RandomForestRegressor(n_estimators=100, random_state=100)\n",
    "rf_model.fit(X_train, y_train)\n",
    "\n",
    "#Test error\n",
    "y_pred_test = rf_model.predict(X_test)\n",
    "mse = mean_squared_error(y_test, y_pred_test)\n",
    "rmse = np.sqrt(mse)\n",
    "print(\"Root Mean Squared Error on Default Test Set:\", rmse, 'eV')\n",
    "r2_test = r2_score(y_test, y_pred_test)\n",
    "print(\"Test R² Score: {:.5f}\".format(r2_test))\n",
    "\n",
    "#Training error\n",
    "y_pred_train = rf_model.predict(X_train)\n",
    "mse = mean_squared_error(y_train, y_pred_train)\n",
    "rmse = np.sqrt(mse)\n",
    "print(\"Root Mean Squared Error on Default Train Set:\", rmse, 'eV')\n",
    "r2_train = r2_score(y_train, y_pred_train)\n",
    "print(\"Training R² Score: {:.5f}\".format(r2_train))\n"
   ]
  },
  {
   "cell_type": "markdown",
   "metadata": {},
   "source": [
    "#### Training on whole data set\n",
    "Saving predicted bandgap as \"predicted_bandgap.csv\""
   ]
  },
  {
   "cell_type": "code",
   "execution_count": 10,
   "metadata": {},
   "outputs": [
    {
     "name": "stdout",
     "output_type": "stream",
     "text": [
      "   Predicted_bandgap\n",
      "0           1.517824\n",
      "1           1.521106\n",
      "2           1.520189\n",
      "3           1.515983\n",
      "4           1.501591\n"
     ]
    }
   ],
   "source": [
    "# Using the trained model to predict on the entire dataset\n",
    "y_pred_all = rf_model.predict(X)\n",
    "\n",
    "predicted_df = pd.DataFrame()\n",
    "# Adding predictions as a new column to the original DataFrame\n",
    "predicted_df['Predicted_bandgap'] = y_pred_all\n",
    "\n",
    "output_path = os.path.join(features_directory, \"predicted_bandgap.csv\")\n",
    "predicted_df.to_csv(output_path,index = True)\n",
    "print(predicted_df.head())"
   ]
  },
  {
   "cell_type": "markdown",
   "metadata": {},
   "source": [
    "#### Visualisation of model without hypertuning\n",
    "Plotting of Model without Tuning"
   ]
  },
  {
   "cell_type": "code",
   "execution_count": null,
   "metadata": {},
   "outputs": [],
   "source": [
    "# Plot actual vs predicted values for Test Set\n",
    "plt.figure(figsize=(10, 8))\n",
    "plt.scatter(y_test, y_pred_test, color='blue', alpha=0.3)\n",
    "\n",
    "# Diagonal Line\n",
    "plt.plot([min(y_test), max(y_test)], [min(y_test), max(y_test)], linestyle='--', color='red') \n",
    "\n",
    "# Plot Labels\n",
    "plt.title('Actual vs Predicted Bandgap (Test)')\n",
    "plt.xlabel('Actual Bandgap/eV')\n",
    "plt.ylabel('Predicted Bandgap/eV')\n",
    "plt.grid(True)\n",
    "plt.show()\n",
    "\n",
    "# Plot actual vs predicted values for Train Set\n",
    "plt.figure(figsize=(10, 8))\n",
    "plt.scatter(y_train, y_pred_train, color='blue', alpha=0.3)\n",
    "\n",
    "# Diagonal Line\n",
    "plt.plot([min(y_train), max(y_train)], [min(y_train), max(y_train)], linestyle='--', color='red') \n",
    "\n",
    "# Plot Labels\n",
    "plt.title('Actual vs Predicted Bandgap (Train)')\n",
    "plt.xlabel('Actual Bandgap/eV')\n",
    "plt.ylabel('Predicted Bandgap/eV')\n",
    "plt.grid(True)\n",
    "plt.show()"
   ]
  },
  {
   "cell_type": "markdown",
   "metadata": {},
   "source": [
    "### Selective Feature Modelling \n",
    "function SelectFromModel is used to selectively take important features as predictors"
   ]
  },
  {
   "cell_type": "code",
   "execution_count": null,
   "metadata": {},
   "outputs": [],
   "source": [
    "from sklearn.feature_selection import SelectFromModel\n",
    "from sklearn.ensemble import RandomForestRegressor\n",
    "\n",
    "# Training Random Forest model\n",
    "rf_model = RandomForestRegressor(n_estimators=100, random_state=100)\n",
    "rf_model.fit(X_train, y_train)\n",
    "\n",
    "#Custom threshold\n",
    "importances = rf_model.feature_importances_\n",
    "custom_threshold = np.percentile(importances, 75)  # Use the top 25% of parameter\n",
    "\n",
    "# Use SelectFromModel to select features based on importance\n",
    "selector = SelectFromModel(rf_model, prefit=True, threshold='mean')\n",
    "\n",
    "# Transform X to the selected features\n",
    "X_train_selected = selector.transform(X_train)\n",
    "X_test_selected = selector.transform(X_test)\n",
    "\n"
   ]
  },
  {
   "cell_type": "markdown",
   "metadata": {},
   "source": [
    "#### Checking Selected Features\n",
    "Checking the Selected and Not Selected Features"
   ]
  },
  {
   "cell_type": "code",
   "execution_count": null,
   "metadata": {},
   "outputs": [],
   "source": [
    "selected_features_mask = selector.get_support()\n",
    "# Inverting the boolean mask to filter out the non-selected features\n",
    "not_selected_features_mask = ~selector.get_support()\n",
    "\n",
    "selected_columns = X.columns[selected_features_mask]\n",
    "not_selected_columns = X.columns[not_selected_features_mask]\n",
    "\n",
    "print(\"Selected features:\", selected_columns)\n",
    "print(\"Non-selected features:\", not_selected_columns)\n"
   ]
  },
  {
   "cell_type": "markdown",
   "metadata": {},
   "source": [
    "#### Retraining of model with Selective features\n",
    "With the Selected set of features, retrain the model"
   ]
  },
  {
   "cell_type": "code",
   "execution_count": null,
   "metadata": {},
   "outputs": [],
   "source": [
    "#Retraining the model with selected parameters\n",
    "rf_model_selected = RandomForestRegressor(n_estimators=100, random_state=100)\n",
    "rf_model_selected.fit(X_train_selected, y_train)\n",
    "\n",
    "# Predict and evaluate the model for Test_selected Set\n",
    "y_pred_test_selected = rf_model_selected.predict(X_test_selected)\n",
    "\n",
    "# Predict and evaluate the model for Training_selected Set\n",
    "y_pred_train_selected = rf_model_selected.predict(X_train_selected)\n"
   ]
  },
  {
   "cell_type": "markdown",
   "metadata": {},
   "source": [
    "#### Re-Predicting of Bandgap with Selective Features\n",
    "\n",
    "This overwrites previously saved predicted bandgaps"
   ]
  },
  {
   "cell_type": "code",
   "execution_count": null,
   "metadata": {},
   "outputs": [],
   "source": [
    "# Using the trained model to predict on the entire dataset\n",
    "y_pred_all = rf_model_selected.predict(X)\n",
    "\n",
    "predicted_df = pd.DataFrame()\n",
    "# Adding predictions as a new column to the original DataFrame\n",
    "predicted_df['Predicted_bandgap'] = y_pred_all\n",
    "\n",
    "output_path = os.path.join(features_directory, \"predicted_bandgap.csv\")\n",
    "predicted_df.to_csv(output_path,index = True)\n",
    "print(predicted_df.head(3))"
   ]
  },
  {
   "cell_type": "markdown",
   "metadata": {},
   "source": [
    "#### Performance of Selected RF Model"
   ]
  },
  {
   "cell_type": "code",
   "execution_count": null,
   "metadata": {},
   "outputs": [],
   "source": [
    "#Test error\n",
    "mse = mean_squared_error(y_test,y_pred_test_selected)\n",
    "rmse = np.sqrt(mse)\n",
    "print(\"Root Mean Squared Error on Default Test Set:{:.5f}\", rmse, 'eV')\n",
    "r2_test = r2_score(y_test, y_pred_test_selected)\n",
    "print(\"Test R² Score: {:.5f}\".format(r2_test))\n",
    "\n",
    "#Training error\n",
    "mse = mean_squared_error(y_train, y_pred_train_selected)\n",
    "rmse = np.sqrt(mse)\n",
    "print(\"Root Mean Squared Error on Default Train Set:{:.5f}\", rmse, 'eV')\n",
    "r2_train = r2_score(y_train, y_pred_train_selected)\n",
    "print(\"Training R² Score: {:.5f}\".format(r2_train))\n"
   ]
  },
  {
   "cell_type": "markdown",
   "metadata": {},
   "source": [
    "#### Visualization of Selected Model Performance"
   ]
  },
  {
   "cell_type": "code",
   "execution_count": null,
   "metadata": {},
   "outputs": [],
   "source": [
    "import matplotlib\n",
    "\n",
    "# Plot actual vs predicted values for Training Set (SELECTED PARAMETERS)\n",
    "plt.figure(figsize=(10, 8))\n",
    "plt.scatter(y_train, y_pred_train_selected, color='blue', alpha=0.3)\n",
    "\n",
    "# Diagonal Line\n",
    "plt.plot([min(y_train), max(y_pred_train_selected)], [min(y_train), max(y_pred_train_selected)], linestyle='--', color='red')\n",
    "\n",
    "# Plot Labels\n",
    "plt.title('Actual vs Predicted Bandgap for Selected Model')\n",
    "plt.xlabel('Actual Bandgap/eV')\n",
    "plt.ylabel('Predicted Bandgap/eV')\n",
    "plt.grid(True)\n",
    "plt.show()\n"
   ]
  },
  {
   "cell_type": "markdown",
   "metadata": {},
   "source": [
    "## Hypertuning Options + final visualization\n",
    "\n",
    "Follow each step accordingly either the A route or B route for hypertuning. \n",
    "\n",
    "#### Option (A.1) \n",
    "Model hypertuning Option (A.1)\n",
    "Tuning with GridSearchCV to find best parameters"
   ]
  },
  {
   "cell_type": "code",
   "execution_count": null,
   "metadata": {},
   "outputs": [],
   "source": [
    "from sklearn.model_selection import GridSearchCV\n",
    "from sklearn.ensemble import RandomForestRegressor\n",
    "\n",
    "# Define the parameter grid\n",
    "param_grid = {\n",
    "    'n_estimators': [50, 100, 200],\n",
    "    'max_depth': [None, 10, 15],\n",
    "    'min_samples_split': [2, 5, 10],\n",
    "    'min_samples_leaf': [1, 2, 4]\n",
    "}\n",
    "\n",
    "# Perform Grid Search Cross Validation\n",
    "grid_search = GridSearchCV(estimator=RandomForestRegressor(random_state=100),\n",
    "param_grid=param_grid, cv=5, n_jobs=-1, scoring='neg_mean_squared_error') #Negative as MSE lower is better\n",
    "grid_search.fit(X_train_selected, y_train)\n",
    "\n",
    "# Get the best parameters\n",
    "best_params = grid_search.best_params_\n",
    "print(\"Best Parameters:\", best_params)\n",
    "#Best Parameters: {'max_depth': 10, 'min_samples_leaf': 1, 'min_samples_split': 2, 'n_estimators': 100}\n",
    "#{'max_depth': None, 'min_samples_leaf': 2, 'min_samples_split': 2, 'n_estimators': 50}\n",
    "#{'max_depth': 10, 'min_samples_leaf': 1, 'min_samples_split': 2, 'n_estimators': 50}\n",
    "\n",
    "# Use the best parameters to train the model\n",
    "best_rf_model = RandomForestRegressor(**best_params, random_state=100)\n",
    "best_rf_model.fit(X_train_selected, y_train)\n",
    "\n",
    "#Test error\n",
    "y_finalpred_test = best_rf_model.predict(X_test_selected)\n",
    "mse = mean_squared_error(y_test, y_finalpred_test)\n",
    "rmse = np.sqrt(mse)\n",
    "print(\"Root Mean Squared Error on Tuned Test Set:\", rmse, 'eV')\n",
    "\n",
    "#Training error\n",
    "y_finalpred_training = best_rf_model.predict(X_train_selected)\n",
    "mse = mean_squared_error(y_train, y_finalpred_training)\n",
    "rmse = np.sqrt(mse)\n",
    "print(\"Root Mean Squared Error on Tuned Train Set:\", rmse, 'eV')\n"
   ]
  },
  {
   "cell_type": "markdown",
   "metadata": {},
   "source": [
    "#### Option (A.2)\n",
    "Creating a New Tuned RF model using GridSearchCV 's parameters. Model is labelled as 'best_rf_model'"
   ]
  },
  {
   "cell_type": "code",
   "execution_count": null,
   "metadata": {},
   "outputs": [],
   "source": [
    "from sklearn.model_selection import GridSearchCV\n",
    "from sklearn.ensemble import RandomForestRegressor\n",
    "\n",
    "# Define the parameter grid\n",
    "best_params = {'max_depth': 10, 'min_samples_leaf': 2, 'min_samples_split': 5, 'n_estimators': 50}\n",
    "\n",
    "# Use the best parameters to train the model\n",
    "best_rf_model = RandomForestRegressor(**best_params, random_state=100)\n",
    "best_rf_model.fit(X_train_selected, y_train)\n",
    "\n",
    "# Test error\n",
    "y_finalpred_test = best_rf_model.predict(X_test_selected)\n",
    "mse_test = mean_squared_error(y_test, y_finalpred_test)\n",
    "rmse_test = np.sqrt(mse_test)\n",
    "r2_test = r2_score(y_test, y_finalpred_test)\n",
    "print(\"Root Mean Squared Error on Tuned Test Set:\", rmse_test, 'eV')\n",
    "print(\"R² Score on Test Set:\", r2_test)\n",
    "\n",
    "# Training error\n",
    "y_finalpred_training = best_rf_model.predict(X_train_selected)\n",
    "mse_train = mean_squared_error(y_train, y_finalpred_training)\n",
    "rmse_train = np.sqrt(mse_train)\n",
    "r2_train = r2_score(y_train, y_finalpred_training)\n",
    "print(\"Root Mean Squared Error on Tuned Train Set:\", rmse_train, 'eV')\n",
    "print(\"R² Score on Train Set:\", r2_train)"
   ]
  },
  {
   "cell_type": "markdown",
   "metadata": {},
   "source": [
    "#### Option (A.3)\n",
    "Plot for visualization after GridSearchCV "
   ]
  },
  {
   "cell_type": "code",
   "execution_count": null,
   "metadata": {},
   "outputs": [],
   "source": [
    "def plot_predictions(y_true, y_pred, set_name):\n",
    "    plt.figure(figsize=(10, 6))\n",
    "    plt.scatter(y_true, y_pred, alpha=0.6)\n",
    "    plt.plot([y_true.min(), y_true.max()], [y_true.min(), y_true.max()], '--k')\n",
    "    plt.xlabel('Actual')\n",
    "    plt.ylabel('Predicted')\n",
    "    plt.title(f'Actual vs. Predicted - {set_name}')\n",
    "    plt.grid(True)\n",
    "    plt.show()\n",
    "\n",
    "# Plot for the test set\n",
    "plot_predictions(y_test, y_finalpred_test, \"Test Set\")\n",
    "\n",
    "# Plot for the training set\n",
    "plot_predictions(y_train, y_finalpred_training, \"Training Set\")\n",
    "\n",
    "def plot_residuals(y_true, y_pred, set_name):\n",
    "    residuals = y_true - y_pred\n",
    "    plt.figure(figsize=(10, 6))\n",
    "    plt.scatter(y_pred, residuals, alpha=0.6)\n",
    "    plt.hlines(y=0, xmin=y_pred.min(), xmax=y_pred.max(), linestyles='dashed')\n",
    "    plt.xlabel('Predicted')\n",
    "    plt.ylabel('Residuals')\n",
    "    plt.title(f'Residuals vs. Predicted - {set_name}')\n",
    "    plt.grid(True)\n",
    "    plt.show()\n",
    "\n",
    "# Plot residuals for the test set\n",
    "plot_residuals(y_test, y_finalpred_test, \"Test Set\")\n",
    "\n",
    "# Plot residuals for the training set\n",
    "plot_residuals(y_train, y_finalpred_training, \"Training Set\")\n"
   ]
  },
  {
   "cell_type": "markdown",
   "metadata": {},
   "source": [
    "#### Option (B.1)\n",
    "Model hypertuning Option (B.1)\n",
    "Tuning with Random SearchCV"
   ]
  },
  {
   "cell_type": "code",
   "execution_count": null,
   "metadata": {},
   "outputs": [],
   "source": [
    "from sklearn.model_selection import RandomizedSearchCV\n",
    "from sklearn.ensemble import RandomForestRegressor\n",
    "from sklearn.metrics import mean_squared_error\n",
    "from scipy.stats import randint\n",
    "\n",
    "# Define the parameter \n",
    "param_dist = {\n",
    "    'n_estimators': randint(100, 1000),       # Number of trees in the forest\n",
    "    'max_depth': [None] + list(randint(1, 100).rvs(10)),  # Maximum depth of the trees\n",
    "    'min_samples_split': randint(2, 20),      # Minimum number of samples to split an internal node\n",
    "    'min_samples_leaf': randint(1, 20)        # Minimum number of samples to be at a leaf node\n",
    "}\n",
    "#Best Parameters: {'max_depth': 31, 'min_samples_leaf': 2, 'min_samples_split': 4, 'n_estimators': 118}\n",
    "\n",
    "# Instantiate the RandomForestRegressor\n",
    "rf_model = RandomForestRegressor(random_state=100)\n",
    "\n",
    "# Perform Randomized Search Cross Validation\n",
    "random_search = RandomizedSearchCV(estimator=rf_model, param_distributions=param_dist, n_iter=100, cv=5, n_jobs=-1, scoring='neg_mean_squared_error', random_state=100)\n",
    "random_search.fit(X_train_selected, y_train)\n",
    "\n",
    "# Get the best parameters\n",
    "best_params = random_search.best_params_\n",
    "print(\"Best Parameters:\", best_params)\n",
    "\n",
    "# Use the best parameters to train the model\n",
    "best_rf_model = RandomForestRegressor(**best_params, random_state=100)\n",
    "best_rf_model.fit(X_train_selected, y_train)\n",
    "\n",
    "# Evaluate the model on the test set\n",
    "y_finalpred_test = best_rf_model.predict(X_test_selected)\n",
    "mse = mean_squared_error(y_test, y_finalpred_test)\n",
    "rmse = np.sqrt(mse)\n",
    "print(\"Root Mean Squared Error on Tuned Test Set:\", rmse, 'eV')\n"
   ]
  },
  {
   "cell_type": "markdown",
   "metadata": {},
   "source": [
    "#### Option (B.2)\n",
    "Creating a New Tuned RF model using RandomizedSearchCV, New Model will be saved as 'best_rf_model'"
   ]
  },
  {
   "cell_type": "code",
   "execution_count": null,
   "metadata": {},
   "outputs": [],
   "source": [
    "# Best parameters obtained from RandomizedSearchCV above\n",
    "from sklearn.ensemble import RandomForestRegressor\n",
    "\n",
    "best_params = {\n",
    "    'max_depth': 31,\n",
    "    'min_samples_leaf': 2,\n",
    "    'min_samples_split': 4,\n",
    "    'n_estimators': 118\n",
    "}\n",
    "best_rf_model = RandomForestRegressor(**best_params, random_state=100)\n",
    "\n",
    "# Train the model on the training data\n",
    "best_rf_model.fit(X_train_selected, y_train)\n",
    "\n",
    "# Evaluate the model on the test set\n",
    "y_finalpred_test = best_rf_model.predict(X_train_selected)\n",
    "mse = mean_squared_error(y_test, y_finalpred_test)\n",
    "rmse = np.sqrt(mse)\n",
    "print(\"Root Mean Squared Error on Tuned Test Set:\", rmse, 'eV')\n",
    "r2_test = r2_score(y_test, y_finalpred_test)\n",
    "print(\"R² Score: {:.5f}\".format(r2_test))\n",
    "\n",
    "# Evaluate the model on the train set\n",
    "y_finalpred_train = best_rf_model.predict(X_train_selected)\n",
    "mse = mean_squared_error(y_test, y_finalpred_train)\n",
    "rmse = np.sqrt(mse)\n",
    "print(\"Root Mean Squared Error on Tuned Train Set:\", rmse, 'eV')\n",
    "r2_train = r2_score(y_test, y_finalpred_train)\n",
    "print(\"R² Score: {:.5f}\".format(r2_train))\n"
   ]
  },
  {
   "cell_type": "markdown",
   "metadata": {},
   "source": [
    "#### Option (B.3)\n",
    "Plot for visualization after GridSearchCV "
   ]
  },
  {
   "cell_type": "code",
   "execution_count": null,
   "metadata": {},
   "outputs": [],
   "source": [
    "# Plot actual vs predicted values for Training Set\n",
    "plt.figure(figsize=(10, 8))\n",
    "plt.scatter(y_pred_train_selected, y_pred_train1, color='blue', alpha=0.3)\n",
    "\n",
    "# Diagonal Line\n",
    "plt.plot([min(y_pred_train_selected), max(y_pred_train1)], [min(y_pred_train_selected), max(y_pred_train1)], linestyle='--', color='red') \n",
    "\n",
    "# Plot Labels\n",
    "plt.title('Actual vs Predicted Bandgap after tuning (Training Set)')\n",
    "plt.xlabel('Actual Bandgap/eV')\n",
    "plt.ylabel('Predicted Bandgap/eV')\n",
    "plt.grid(True)\n",
    "plt.show()\n",
    "\n",
    "# Plot actual vs predicted values for Test Set\n",
    "plt.figure(figsize=(10, 8))\n",
    "plt.scatter(y_pred1, y_test, color='blue', alpha=0.3)\n",
    "\n",
    "# Diagonal Line\n",
    "plt.plot([min(y_pred_train_selected), max(y_pred_train1)], [min(y_pred_train_selected), max(y_pred_train1)], linestyle='--', color='red') \n",
    "\n",
    "# Plot Labels\n",
    "plt.title('Actual vs Predicted Bandgap after tuning (Training Set)')\n",
    "plt.xlabel('Actual Bandgap/eV')\n",
    "plt.ylabel('Predicted Bandgap/eV')\n",
    "plt.grid(True)\n",
    "plt.show()"
   ]
  },
  {
   "cell_type": "markdown",
   "metadata": {},
   "source": [
    "##### Re-Predicting after hypertuning\n",
    "This overwrites the previously saved predicted_bandgap"
   ]
  },
  {
   "cell_type": "code",
   "execution_count": null,
   "metadata": {},
   "outputs": [],
   "source": [
    "# Using the trained model to predict on the entire dataset\n",
    "y_pred_all = best_rf_model.predict(X)\n",
    "\n",
    "predicted_df = pd.DataFrame()\n",
    "# Adding predictions as a new column to the original DataFrame\n",
    "predicted_df['Predicted_bandgap'] = y_pred_all\n",
    "\n",
    "output_path = os.path.join(features_directory, \"predicted_bandgap.csv\")\n",
    "predicted_df.to_csv(output_path,index = True)\n",
    "print(predicted_df.head())"
   ]
  },
  {
   "cell_type": "markdown",
   "metadata": {},
   "source": [
    "## Absorption Spectra Section\n",
    "#### Loading of Spectra files\n",
    "Saving all Spectra onto a singular dataframe. It's energy and absorption coefficient will be in a list. \n",
    "Saved as \"spectra_data.json\""
   ]
  },
  {
   "cell_type": "code",
   "execution_count": null,
   "metadata": {},
   "outputs": [],
   "source": [
    "import os\n",
    "import glob\n",
    "import pandas as pd\n",
    "import re\n",
    "\n",
    "# List and sort spectra files numerically\n",
    "spectra_files = sorted(\n",
    "    glob.glob(os.path.join(spectra_directory, \"absorption_spectra_*.dat\")),\n",
    "    key=lambda x: int(re.findall(r'\\d+', os.path.basename(x))[0])\n",
    ")\n",
    "\n",
    "#Temp list for storage\n",
    "spectra_list = []\n",
    "\n",
    "# Load each absorption spectra into separate entries in the list\n",
    "for spectra in spectra_files:\n",
    "    # Read the data from the file\n",
    "    spectra_data = pd.read_csv(spectra, sep='\\\\s+', header=None)\n",
    "    # Separate the columns into two lists: one for energy and one for absorption coefficient\n",
    "    energies = spectra_data[0].tolist()  \n",
    "    absorptions = spectra_data[1].tolist()\n",
    "    # Getting all spectra file index\n",
    "    spectra_index = int(re.findall(r'\\d+', os.path.basename(spectra))[0])\n",
    "    # Appending the values to its associated columns\n",
    "    spectra_list.append({'Spectra': spectra_index, 'Energy': energies, 'Absorption': absorptions})\n",
    "\n",
    "combined_df = pd.DataFrame(spectra_list)\n",
    "\n",
    "# Sort the DataFrame by 'Spectra' column to ensure it is in the correct order\n",
    "combined_df.sort_values('Spectra', inplace=True)\n",
    "\n",
    "# Save dataframe to JSON format\n",
    "output_path = os.path.join(spectra_directory, \"spectra_data.json\")\n",
    "combined_df.to_json(output_path, orient='records', indent=4)\n",
    "print(f\"Spectra data saved to {output_path}\")\n"
   ]
  },
  {
   "cell_type": "markdown",
   "metadata": {},
   "source": [
    "##### Visualizing Unfiltered Spectra"
   ]
  },
  {
   "cell_type": "code",
   "execution_count": null,
   "metadata": {},
   "outputs": [],
   "source": [
    "file_path = os.path.join(spectra_directory, \"absorption_spectra_1.dat\") #Adjust if you want see a different spectrum\n",
    "data = np.loadtxt(file_path, dtype=float)\n",
    "\n",
    "# Split the data into energy and absorption coefficient\n",
    "energy, absorption = data[:, 0], data[:, 1]\n",
    "\n",
    "# Plot the data\n",
    "plt.figure(figsize=(10, 6))\n",
    "plt.plot(energy, absorption, label='Absorption Spectrum', color='blue')\n",
    "plt.title('Energy vs. Absorption Coefficient')\n",
    "plt.xlabel('Energy (units)')\n",
    "plt.ylabel('Absorption Coefficient (units)')\n",
    "plt.legend()\n",
    "plt.show()"
   ]
  },
  {
   "cell_type": "markdown",
   "metadata": {},
   "source": [
    "#### Sectioning out Urbach Tail\n",
    "\n",
    "Removal of values after a certain value (Bandgap + 1eV)\n",
    "Assuming that the Urbach tail end by +1.0 eV after Bandgap. We calculate the curvature and slope of this portion.\n",
    "\n",
    "Removal of all Values below the Bandgap while adding bandgap column into the same dataframe, Stored as \"filtered_spectra_df\""
   ]
  },
  {
   "cell_type": "code",
   "execution_count": null,
   "metadata": {},
   "outputs": [],
   "source": [
    "# List and sort spectra files numerically based on the digits in the filename\n",
    "spectra_files = sorted(\n",
    "    glob.glob(os.path.join(spectra_directory, \"absorption_spectra_*.dat\")),\n",
    "    key=lambda x: int(re.findall(r'\\d+', os.path.basename(x))[0])\n",
    ")\n",
    "\n",
    "#Loading bandgap\n",
    "bandgap = pd.read_csv(os.path.join(features_directory,'all_bandgap.csv'))\n",
    "\n",
    "# Initialize a list to store data for each spectra\n",
    "spectra_list = []\n",
    "\n",
    "# Load each absorption spectra into separate entries in the list\n",
    "for i, spectra in enumerate(spectra_files):\n",
    "    # Read the data from the file\n",
    "    spectra_data = pd.read_csv(spectra, sep='\\\\s+', header=None)\n",
    "    # Separate the columns into two lists: one for energy and one for absorption coefficient\n",
    "    energies = spectra_data[0].tolist()\n",
    "    absorptions = spectra_data[1].tolist()\n",
    "    \n",
    "    # Get the bandgap value for the corresponding spectrum\n",
    "    bg_value = bandgap.loc[i, 'Bandgap/eV']\n",
    "    \n",
    "    # Filter out energy values more than the bandgap value _ 1.0eV\n",
    "    filtered_energies = [e for e in energies if e <= (bg_value+1.0)]\n",
    "    # Corresponding absorption values must also be filtered\n",
    "    filtered_absorptions = [absorptions[j] for j, e in enumerate(energies) if e <= (bg_value+1.0)]\n",
    "    \n",
    "    # Add a dictionary for the current spectra to the list\n",
    "    spectra_list.append({\n",
    "        'Spectra': int(re.findall(r'\\d+', os.path.basename(spectra))[0]),\n",
    "        'Energy': filtered_energies,\n",
    "        'Absorption': filtered_absorptions\n",
    "    })\n",
    "\n",
    "# Create DataFrame from list of dictionaries\n",
    "filtered_spectra_df = pd.DataFrame(spectra_list)\n",
    "\n",
    "#combining 'bandgap' DataFrame and filtered_spectra_df\n",
    "filtered_spectra_df['Bandgap'] = bandgap['Bandgap/eV']\n",
    "\n",
    "# Define the path where you want to save the excel file\n",
    "output_path = os.path.join(spectra_directory,'filtered_spectra.csv')\n",
    "\n",
    "# Save the combined DataFrame \n",
    "filtered_spectra_df.to_csv(output_path,index=True)\n",
    "\n",
    "print(filtered_spectra_df.head(1))\n"
   ]
  },
  {
   "cell_type": "markdown",
   "metadata": {},
   "source": [
    "just for visual checking of the urbach tail"
   ]
  },
  {
   "cell_type": "code",
   "execution_count": null,
   "metadata": {},
   "outputs": [],
   "source": [
    "# Load the dataset\n",
    "filtered_spectra_df = pd.read_csv(os.path.join(spectra_directory,'filtered_spectra.csv'), index_col=0)\n",
    "\n",
    "# User input for which spectrum to display\n",
    "number = input(\"Which spectra would you like to see: \")\n",
    "selected_spectrum = filtered_spectra_df.iloc[int(number)]\n",
    "\n",
    "# Use literal_eval to convert string representations into actual lists\n",
    "energy_values = ast.literal_eval(selected_spectrum['Energy'])\n",
    "absorption_values = ast.literal_eval(selected_spectrum['Absorption'])\n",
    "\n",
    "# Create the plot\n",
    "plt.figure(figsize=(10, 6))\n",
    "plt.plot(energy_values, absorption_values, marker='o',markersize=2, linestyle='-', color='b')\n",
    "plt.title(f'Absorption Spectrum {number}')\n",
    "plt.xlabel('Energy (eV)')\n",
    "plt.ylabel('Absorption Coefficient')\n",
    "\n",
    "#Optional Zoom between x-range\n",
    "#plt.xlim(1.5, 2.0)\n",
    "#Optional Zoom between y-range\n",
    "#plt.ylim(0,4)\n",
    "\n",
    "plt.grid(True)\n",
    "plt.show()\n"
   ]
  },
  {
   "cell_type": "markdown",
   "metadata": {},
   "source": [
    "##### Interpolation Function for Spectra\n",
    "To ensure the spectra is of the same length for pre-processing"
   ]
  },
  {
   "cell_type": "code",
   "execution_count": null,
   "metadata": {},
   "outputs": [],
   "source": [
    "from scipy.interpolate import CubicSpline\n",
    "\n",
    "# Drop rows where conversion to float failed\n",
    "filtered_spectra_df.dropna(subset=['Energy', 'Absorption'], inplace=True)\n",
    "def interpolate_spectrum(energies, absorptions, min_energy, max_energy, num_points=200):\n",
    "    try:\n",
    "        # Convert and check data types\n",
    "        energies = np.array(energies, dtype=float)\n",
    "        absorptions = np.array(absorptions, dtype=float)\n",
    "\n",
    "        if len(energies) < 3 or len(absorptions) < 3:\n",
    "            raise ValueError(\"Not enough data points for Cubic Spline interpolation.\")\n",
    "\n",
    "        energy_range = np.linspace(start=min_energy, stop=max_energy, num=num_points)\n",
    "        interpolation_func = CubicSpline(energies, absorptions, bc_type=('natural', 'clamped'))\n",
    "        interpolated_absorptions = interpolation_func(energy_range)\n",
    "        return interpolated_absorptions, energy_range\n",
    "    except Exception as e:\n",
    "        print(f\"Interpolation error: {e}\")\n",
    "        return None, None  #failures checks\n"
   ]
  },
  {
   "cell_type": "markdown",
   "metadata": {},
   "source": [
    "#### Applying Interpolation Function onto the Spectra Dataframe.\n",
    "\n",
    "Overwrites filtered_dataframe_df by adding 2 additional columns of the interpolated energy and absorption values. Saved as \"new_filtered_spectra_df.csv\""
   ]
  },
  {
   "cell_type": "code",
   "execution_count": null,
   "metadata": {},
   "outputs": [],
   "source": [
    "#Uncomment this part if facing problem converting as loading dataframe from csv the datatype might be as strings\n",
    "#filtered_spectra_df['Energy'] = filtered_spectra_df['Energy'].apply(lambda x: eval(x))\n",
    "#filtered_spectra_df['Absorption'] = filtered_spectra_df['Absorption'].apply(lambda x: eval(x))\n",
    "\n",
    "# Apply interpolation function to each row\n",
    "results = filtered_spectra_df.apply(\n",
    "    lambda row: interpolate_spectrum(\n",
    "        energies=row['Energy'], \n",
    "        absorptions=row['Absorption'],\n",
    "        min_energy=0,\n",
    "        max_energy=row['Energy'][-1] if row['Energy'] and isinstance(row['Energy'], list) else row['Bandgap']\n",
    "    ), axis=1\n",
    ")\n",
    "\n",
    "# Check if results contain expected data and then unpack\n",
    "if not results.empty:\n",
    "    # Using list comprehension to handle cases where result might be None\n",
    "    filtered_spectra_df['Interpolated Absorptions'] = [res[0] if res else None for res in results]\n",
    "    filtered_spectra_df['Interpolation Energy Range'] = [res[1] if res else None for res in results]\n",
    "\n",
    "# Print the DataFrame to see the new columns\n",
    "#print(filtered_spectra_df[['Interpolated Absorptions', 'Interpolation Energy Range']].head(2))\n",
    "\n",
    "# Create a copy of the DataFrame\n",
    "new_filtered_spectra_df = filtered_spectra_df.copy()\n",
    "\n",
    "output_path = os.path.join(spectra_directory,'new_filtered_spectra_df.csv')\n",
    "\n",
    "# Save the copy to a CSV file\n",
    "new_filtered_spectra_df.to_csv(output_path, index=True)\n",
    "print('All Spectra Features are updated under ',output_path)"
   ]
  },
  {
   "cell_type": "markdown",
   "metadata": {},
   "source": [
    "#### Computing Curvature of Absorption Spectra\n",
    "\n",
    "##### Define function for Slope/Curvature"
   ]
  },
  {
   "cell_type": "code",
   "execution_count": null,
   "metadata": {},
   "outputs": [],
   "source": [
    "#Function to find slope of spectra\n",
    "def compute_slope(energy, absorption):\n",
    "    # Fit a linear polynomial for the slope\n",
    "    p = np.polyfit(energy, absorption, 1)\n",
    "    slope = p[0]\n",
    "    return slope\n",
    "\n",
    "def compute_curvature(energy, absorption):\n",
    "    # Fit a second degree polynomial for curvature calculation\n",
    "    p = np.polyfit(energy, absorption, 3)\n",
    "    p_deriv = np.polyder(p, 1)  # First derivative\n",
    "    p_deriv2 = np.polyder(p, 2)  # Second derivative\n",
    "    \n",
    "    # Compute average curvature\n",
    "    curvatures = []\n",
    "    for x in energy:\n",
    "        f_prime = np.polyval(p_deriv, x)\n",
    "        f_double_prime = np.polyval(p_deriv2, x)\n",
    "        curvature = np.abs(f_double_prime) / (1 + f_prime**2)**1.5\n",
    "        curvatures.append(curvature)\n",
    "\n",
    "    average_curvature = np.mean(curvatures)\n",
    "    return average_curvature\n"
   ]
  },
  {
   "cell_type": "markdown",
   "metadata": {},
   "source": [
    "##### Applying Function to compute slope and curvature of spectra\n",
    "\n",
    "saving new dataframe with the slope and curvature as spectra1.json"
   ]
  },
  {
   "cell_type": "code",
   "execution_count": null,
   "metadata": {},
   "outputs": [],
   "source": [
    "# Apply to each row in the DataFrame to compute slope and curvature\n",
    "new_filtered_spectra_df['Slope'] = new_filtered_spectra_df.apply(\n",
    "    lambda row: compute_slope(row['Interpolation Energy Range'], row['Interpolated Absorptions']), axis=1\n",
    ")\n",
    "new_filtered_spectra_df['Curvature'] = new_filtered_spectra_df.apply(\n",
    "    lambda row: compute_curvature(row['Interpolation Energy Range'], row['Interpolated Absorptions']), axis=1\n",
    ")\n",
    "# Checking\n",
    "print(new_filtered_spectra_df)\n",
    "spectra1 = new_filtered_spectra_df.copy()\n",
    "\n",
    "output_path = os.path.join(spectra_directory,'spectra1.json')\n",
    "\n",
    "# Save the copy to a Json file\n",
    "spectra1.to_json(output_path, orient='records',lines=True)"
   ]
  },
  {
   "cell_type": "markdown",
   "metadata": {},
   "source": [
    "#### Preloading Slope and Curvature Features"
   ]
  },
  {
   "cell_type": "code",
   "execution_count": null,
   "metadata": {},
   "outputs": [],
   "source": [
    "#checking loaded dataframe\n",
    "spectra1=pd.read_json(os.path.join(spectra_directory, 'spectra1.json'), orient='records', lines=True)\n",
    "print(spectra1[['Slope', 'Curvature']].head(3))"
   ]
  },
  {
   "cell_type": "markdown",
   "metadata": {},
   "source": [
    "### Predicting Urbach Tail Spectrum\n",
    "\n",
    "#### Preparing Data for LSTM Model\n",
    "Using Predicted Bandgap, Slope and Curvature to predict the Urbach Spectra"
   ]
  },
  {
   "cell_type": "code",
   "execution_count": 11,
   "metadata": {},
   "outputs": [
    {
     "name": "stdout",
     "output_type": "stream",
     "text": [
      "New Y_train_combined shape: (510, 200, 2)\n",
      "New Y_test_combined shape: (128, 200, 2)\n",
      "New X_train shape: (510, 3, 1)\n",
      "New X_test shape: (128, 3, 1)\n"
     ]
    }
   ],
   "source": [
    "from tensorflow.keras.models import Sequential\n",
    "from tensorflow.keras.layers import LSTM, Dense\n",
    "from tensorflow.keras.optimizers import Adam\n",
    "\n",
    "#Pre-loading spectra1 and features.df\n",
    "spectra1 = pd.read_json(os.path.join(spectra_directory,'spectra1.json'), orient='records', lines=True)\n",
    "#print(spectra1.head(1))\n",
    "predicted_df = pd.read_csv(os.path.join(features_directory,'predicted_bandgap.csv'),index_col=0)\n",
    "#print(predicted_df.head(1))\n",
    "\n",
    "X = spectra1[['Slope', 'Curvature']] .join(predicted_df)\n",
    "\n",
    "# Create a copy to prevent warning error\n",
    "Y = spectra1[['Interpolated Absorptions', 'Interpolation Energy Range']].copy()\n",
    "\n",
    "# Now, perform the train-test split\n",
    "X_train, X_test, Y_train, Y_test = train_test_split(X, Y, test_size=0.2, random_state=100)\n",
    "\n",
    "Y_train['Interpolated Absorptions'] = Y_train['Interpolated Absorptions'].apply(np.array)\n",
    "Y_train['Interpolation Energy Range'] = Y_train['Interpolation Energy Range'].apply(np.array)\n",
    "\n",
    "Y_test['Interpolated Absorptions'] = Y_test['Interpolated Absorptions'].apply(np.array)\n",
    "Y_test['Interpolation Energy Range'] = Y_test['Interpolation Energy Range'].apply(np.array)\n",
    "\n",
    "Y_train_combined = np.stack((Y_train['Interpolated Absorptions'].tolist(), Y_train['Interpolation Energy Range'].tolist()), axis=-1)\n",
    "Y_test_combined = np.stack((Y_test['Interpolated Absorptions'].tolist(), Y_test['Interpolation Energy Range'].tolist()), axis=-1)\n",
    "print(\"New Y_train_combined shape:\", Y_train_combined.shape)\n",
    "print(\"New Y_test_combined shape:\", Y_test_combined.shape)\n",
    "\n",
    "# Convert DataFrame to NumPy array and reshape for LSTM input\n",
    "X_train = X_train.to_numpy().reshape(X_train.shape[0], X_train.shape[1], 1)\n",
    "X_test = X_test.to_numpy().reshape(X_test.shape[0], X_test.shape[1], 1)\n",
    "print(\"New X_train shape:\", X_train.shape)\n",
    "print(\"New X_test shape:\", X_test.shape)\n"
   ]
  },
  {
   "cell_type": "markdown",
   "metadata": {},
   "source": [
    "### Tensorflow LSTM Model\n",
    "\n",
    "#### Building the model"
   ]
  },
  {
   "cell_type": "code",
   "execution_count": 27,
   "metadata": {},
   "outputs": [
    {
     "data": {
      "text/html": [
       "<pre style=\"white-space:pre;overflow-x:auto;line-height:normal;font-family:Menlo,'DejaVu Sans Mono',consolas,'Courier New',monospace\"><span style=\"font-weight: bold\">Model: \"sequential_2\"</span>\n",
       "</pre>\n"
      ],
      "text/plain": [
       "\u001b[1mModel: \"sequential_2\"\u001b[0m\n"
      ]
     },
     "metadata": {},
     "output_type": "display_data"
    },
    {
     "data": {
      "text/html": [
       "<pre style=\"white-space:pre;overflow-x:auto;line-height:normal;font-family:Menlo,'DejaVu Sans Mono',consolas,'Courier New',monospace\">┏━━━━━━━━━━━━━━━━━━━━━━━━━━━━━━━━━┳━━━━━━━━━━━━━━━━━━━━━━━━┳━━━━━━━━━━━━━━━┓\n",
       "┃<span style=\"font-weight: bold\"> Layer (type)                    </span>┃<span style=\"font-weight: bold\"> Output Shape           </span>┃<span style=\"font-weight: bold\">       Param # </span>┃\n",
       "┡━━━━━━━━━━━━━━━━━━━━━━━━━━━━━━━━━╇━━━━━━━━━━━━━━━━━━━━━━━━╇━━━━━━━━━━━━━━━┩\n",
       "│ dense_6 (<span style=\"color: #0087ff; text-decoration-color: #0087ff\">Dense</span>)                 │ (<span style=\"color: #00d7ff; text-decoration-color: #00d7ff\">None</span>, <span style=\"color: #00af00; text-decoration-color: #00af00\">50</span>)             │           <span style=\"color: #00af00; text-decoration-color: #00af00\">200</span> │\n",
       "├─────────────────────────────────┼────────────────────────┼───────────────┤\n",
       "│ dense_7 (<span style=\"color: #0087ff; text-decoration-color: #0087ff\">Dense</span>)                 │ (<span style=\"color: #00d7ff; text-decoration-color: #00d7ff\">None</span>, <span style=\"color: #00af00; text-decoration-color: #00af00\">100</span>)            │         <span style=\"color: #00af00; text-decoration-color: #00af00\">5,100</span> │\n",
       "├─────────────────────────────────┼────────────────────────┼───────────────┤\n",
       "│ repeat_vector_2 (<span style=\"color: #0087ff; text-decoration-color: #0087ff\">RepeatVector</span>)  │ (<span style=\"color: #00d7ff; text-decoration-color: #00d7ff\">None</span>, <span style=\"color: #00af00; text-decoration-color: #00af00\">200</span>, <span style=\"color: #00af00; text-decoration-color: #00af00\">100</span>)       │             <span style=\"color: #00af00; text-decoration-color: #00af00\">0</span> │\n",
       "├─────────────────────────────────┼────────────────────────┼───────────────┤\n",
       "│ lstm_2 (<span style=\"color: #0087ff; text-decoration-color: #0087ff\">LSTM</span>)                   │ (<span style=\"color: #00d7ff; text-decoration-color: #00d7ff\">None</span>, <span style=\"color: #00af00; text-decoration-color: #00af00\">200</span>, <span style=\"color: #00af00; text-decoration-color: #00af00\">50</span>)        │        <span style=\"color: #00af00; text-decoration-color: #00af00\">30,200</span> │\n",
       "├─────────────────────────────────┼────────────────────────┼───────────────┤\n",
       "│ time_distributed_2              │ (<span style=\"color: #00d7ff; text-decoration-color: #00d7ff\">None</span>, <span style=\"color: #00af00; text-decoration-color: #00af00\">200</span>, <span style=\"color: #00af00; text-decoration-color: #00af00\">2</span>)         │           <span style=\"color: #00af00; text-decoration-color: #00af00\">102</span> │\n",
       "│ (<span style=\"color: #0087ff; text-decoration-color: #0087ff\">TimeDistributed</span>)               │                        │               │\n",
       "└─────────────────────────────────┴────────────────────────┴───────────────┘\n",
       "</pre>\n"
      ],
      "text/plain": [
       "┏━━━━━━━━━━━━━━━━━━━━━━━━━━━━━━━━━┳━━━━━━━━━━━━━━━━━━━━━━━━┳━━━━━━━━━━━━━━━┓\n",
       "┃\u001b[1m \u001b[0m\u001b[1mLayer (type)                   \u001b[0m\u001b[1m \u001b[0m┃\u001b[1m \u001b[0m\u001b[1mOutput Shape          \u001b[0m\u001b[1m \u001b[0m┃\u001b[1m \u001b[0m\u001b[1m      Param #\u001b[0m\u001b[1m \u001b[0m┃\n",
       "┡━━━━━━━━━━━━━━━━━━━━━━━━━━━━━━━━━╇━━━━━━━━━━━━━━━━━━━━━━━━╇━━━━━━━━━━━━━━━┩\n",
       "│ dense_6 (\u001b[38;5;33mDense\u001b[0m)                 │ (\u001b[38;5;45mNone\u001b[0m, \u001b[38;5;34m50\u001b[0m)             │           \u001b[38;5;34m200\u001b[0m │\n",
       "├─────────────────────────────────┼────────────────────────┼───────────────┤\n",
       "│ dense_7 (\u001b[38;5;33mDense\u001b[0m)                 │ (\u001b[38;5;45mNone\u001b[0m, \u001b[38;5;34m100\u001b[0m)            │         \u001b[38;5;34m5,100\u001b[0m │\n",
       "├─────────────────────────────────┼────────────────────────┼───────────────┤\n",
       "│ repeat_vector_2 (\u001b[38;5;33mRepeatVector\u001b[0m)  │ (\u001b[38;5;45mNone\u001b[0m, \u001b[38;5;34m200\u001b[0m, \u001b[38;5;34m100\u001b[0m)       │             \u001b[38;5;34m0\u001b[0m │\n",
       "├─────────────────────────────────┼────────────────────────┼───────────────┤\n",
       "│ lstm_2 (\u001b[38;5;33mLSTM\u001b[0m)                   │ (\u001b[38;5;45mNone\u001b[0m, \u001b[38;5;34m200\u001b[0m, \u001b[38;5;34m50\u001b[0m)        │        \u001b[38;5;34m30,200\u001b[0m │\n",
       "├─────────────────────────────────┼────────────────────────┼───────────────┤\n",
       "│ time_distributed_2              │ (\u001b[38;5;45mNone\u001b[0m, \u001b[38;5;34m200\u001b[0m, \u001b[38;5;34m2\u001b[0m)         │           \u001b[38;5;34m102\u001b[0m │\n",
       "│ (\u001b[38;5;33mTimeDistributed\u001b[0m)               │                        │               │\n",
       "└─────────────────────────────────┴────────────────────────┴───────────────┘\n"
      ]
     },
     "metadata": {},
     "output_type": "display_data"
    },
    {
     "data": {
      "text/html": [
       "<pre style=\"white-space:pre;overflow-x:auto;line-height:normal;font-family:Menlo,'DejaVu Sans Mono',consolas,'Courier New',monospace\"><span style=\"font-weight: bold\"> Total params: </span><span style=\"color: #00af00; text-decoration-color: #00af00\">35,602</span> (139.07 KB)\n",
       "</pre>\n"
      ],
      "text/plain": [
       "\u001b[1m Total params: \u001b[0m\u001b[38;5;34m35,602\u001b[0m (139.07 KB)\n"
      ]
     },
     "metadata": {},
     "output_type": "display_data"
    },
    {
     "data": {
      "text/html": [
       "<pre style=\"white-space:pre;overflow-x:auto;line-height:normal;font-family:Menlo,'DejaVu Sans Mono',consolas,'Courier New',monospace\"><span style=\"font-weight: bold\"> Trainable params: </span><span style=\"color: #00af00; text-decoration-color: #00af00\">35,602</span> (139.07 KB)\n",
       "</pre>\n"
      ],
      "text/plain": [
       "\u001b[1m Trainable params: \u001b[0m\u001b[38;5;34m35,602\u001b[0m (139.07 KB)\n"
      ]
     },
     "metadata": {},
     "output_type": "display_data"
    },
    {
     "data": {
      "text/html": [
       "<pre style=\"white-space:pre;overflow-x:auto;line-height:normal;font-family:Menlo,'DejaVu Sans Mono',consolas,'Courier New',monospace\"><span style=\"font-weight: bold\"> Non-trainable params: </span><span style=\"color: #00af00; text-decoration-color: #00af00\">0</span> (0.00 B)\n",
       "</pre>\n"
      ],
      "text/plain": [
       "\u001b[1m Non-trainable params: \u001b[0m\u001b[38;5;34m0\u001b[0m (0.00 B)\n"
      ]
     },
     "metadata": {},
     "output_type": "display_data"
    }
   ],
   "source": [
    "from keras.layers import TimeDistributed, Reshape, Lambda\n",
    "from keras.models import Sequential\n",
    "from tensorflow.keras.layers import LSTM, Dense, Input, TimeDistributed, Reshape, Lambda, Flatten, RepeatVector\n",
    "from tensorflow.keras.optimizers import Adam\n",
    "\n",
    "model = Sequential([\n",
    "    Dense(50, activation='relu', input_shape=(input_shape[0],)),  # Flatten the input\n",
    "    Dense(100, activation='relu'),\n",
    "    RepeatVector(200),  # Expand to match the number of Y points (Match with interpolation)\n",
    "    LSTM(50, return_sequences=True),\n",
    "    TimeDistributed(Dense(2))  # Output two features at each time step\n",
    "])\n",
    "\n",
    "#Learning rate can be optimized,\n",
    "#learning rate (alpha) controls the size of the steps we take during parameter updates\n",
    "model.compile(optimizer=Adam(learning_rate=0.001), loss='mse')\n",
    "model.summary()"
   ]
  },
  {
   "cell_type": "markdown",
   "metadata": {},
   "source": [
    "#### Flattening the input variables"
   ]
  },
  {
   "cell_type": "code",
   "execution_count": 32,
   "metadata": {},
   "outputs": [
    {
     "name": "stdout",
     "output_type": "stream",
     "text": [
      "Shape of X_test_flat: (128, 3)\n"
     ]
    }
   ],
   "source": [
    "#X_train.shape is (510, 3, 1) and Y_train_combined.shape is (510, 200, 2)\n",
    "input_shape = X_train.shape[1:]  # (3, 1)\n",
    "\n",
    "# Flatten X_train and X_test if they are not already flat\n",
    "X_train_flat = X_train.reshape(X_train.shape[0], -1)\n",
    "X_test_flat = X_test.reshape(X_test.shape[0], -1)\n"
   ]
  },
  {
   "cell_type": "markdown",
   "metadata": {},
   "source": [
    "#### Training RNN-LSTM Model\n",
    "saving it as \"best_model.keras\""
   ]
  },
  {
   "cell_type": "code",
   "execution_count": 39,
   "metadata": {},
   "outputs": [
    {
     "name": "stdout",
     "output_type": "stream",
     "text": [
      "Epoch 1/100\n",
      "\u001b[1m16/16\u001b[0m \u001b[32m━━━━━━━━━━━━━━━━━━━━\u001b[0m\u001b[37m\u001b[0m \u001b[1m9s\u001b[0m 138ms/step - loss: 0.8493 - val_loss: 0.4158\n",
      "Epoch 2/100\n",
      "\u001b[1m16/16\u001b[0m \u001b[32m━━━━━━━━━━━━━━━━━━━━\u001b[0m\u001b[37m\u001b[0m \u001b[1m1s\u001b[0m 68ms/step - loss: 0.3984 - val_loss: 0.3855\n",
      "Epoch 3/100\n",
      "\u001b[1m16/16\u001b[0m \u001b[32m━━━━━━━━━━━━━━━━━━━━\u001b[0m\u001b[37m\u001b[0m \u001b[1m1s\u001b[0m 67ms/step - loss: 0.3821 - val_loss: 0.3753\n",
      "Epoch 4/100\n",
      "\u001b[1m16/16\u001b[0m \u001b[32m━━━━━━━━━━━━━━━━━━━━\u001b[0m\u001b[37m\u001b[0m \u001b[1m1s\u001b[0m 66ms/step - loss: 0.3712 - val_loss: 0.3667\n",
      "Epoch 5/100\n",
      "\u001b[1m16/16\u001b[0m \u001b[32m━━━━━━━━━━━━━━━━━━━━\u001b[0m\u001b[37m\u001b[0m \u001b[1m1s\u001b[0m 71ms/step - loss: 0.3634 - val_loss: 0.3410\n",
      "Epoch 6/100\n",
      "\u001b[1m16/16\u001b[0m \u001b[32m━━━━━━━━━━━━━━━━━━━━\u001b[0m\u001b[37m\u001b[0m \u001b[1m1s\u001b[0m 65ms/step - loss: 0.3195 - val_loss: 0.4207\n",
      "Epoch 7/100\n",
      "\u001b[1m16/16\u001b[0m \u001b[32m━━━━━━━━━━━━━━━━━━━━\u001b[0m\u001b[37m\u001b[0m \u001b[1m1s\u001b[0m 66ms/step - loss: 0.3738 - val_loss: 0.3452\n",
      "Epoch 8/100\n",
      "\u001b[1m16/16\u001b[0m \u001b[32m━━━━━━━━━━━━━━━━━━━━\u001b[0m\u001b[37m\u001b[0m \u001b[1m1s\u001b[0m 66ms/step - loss: 0.3418 - val_loss: 0.3295\n",
      "Epoch 9/100\n",
      "\u001b[1m16/16\u001b[0m \u001b[32m━━━━━━━━━━━━━━━━━━━━\u001b[0m\u001b[37m\u001b[0m \u001b[1m1s\u001b[0m 65ms/step - loss: 0.3254 - val_loss: 0.2959\n",
      "Epoch 10/100\n",
      "\u001b[1m16/16\u001b[0m \u001b[32m━━━━━━━━━━━━━━━━━━━━\u001b[0m\u001b[37m\u001b[0m \u001b[1m1s\u001b[0m 66ms/step - loss: 0.2540 - val_loss: 0.3107\n",
      "Epoch 11/100\n",
      "\u001b[1m16/16\u001b[0m \u001b[32m━━━━━━━━━━━━━━━━━━━━\u001b[0m\u001b[37m\u001b[0m \u001b[1m1s\u001b[0m 66ms/step - loss: 0.3219 - val_loss: 0.2037\n",
      "Epoch 12/100\n",
      "\u001b[1m16/16\u001b[0m \u001b[32m━━━━━━━━━━━━━━━━━━━━\u001b[0m\u001b[37m\u001b[0m \u001b[1m1s\u001b[0m 66ms/step - loss: 0.1723 - val_loss: 0.1676\n",
      "Epoch 13/100\n",
      "\u001b[1m16/16\u001b[0m \u001b[32m━━━━━━━━━━━━━━━━━━━━\u001b[0m\u001b[37m\u001b[0m \u001b[1m1s\u001b[0m 71ms/step - loss: 0.2167 - val_loss: 0.3138\n",
      "Epoch 14/100\n",
      "\u001b[1m16/16\u001b[0m \u001b[32m━━━━━━━━━━━━━━━━━━━━\u001b[0m\u001b[37m\u001b[0m \u001b[1m1s\u001b[0m 68ms/step - loss: 0.2995 - val_loss: 0.2784\n",
      "Epoch 15/100\n",
      "\u001b[1m16/16\u001b[0m \u001b[32m━━━━━━━━━━━━━━━━━━━━\u001b[0m\u001b[37m\u001b[0m \u001b[1m1s\u001b[0m 70ms/step - loss: 0.2702 - val_loss: 0.2149\n",
      "Epoch 16/100\n",
      "\u001b[1m16/16\u001b[0m \u001b[32m━━━━━━━━━━━━━━━━━━━━\u001b[0m\u001b[37m\u001b[0m \u001b[1m1s\u001b[0m 75ms/step - loss: 0.1788 - val_loss: 0.0713\n",
      "Epoch 17/100\n",
      "\u001b[1m16/16\u001b[0m \u001b[32m━━━━━━━━━━━━━━━━━━━━\u001b[0m\u001b[37m\u001b[0m \u001b[1m1s\u001b[0m 73ms/step - loss: 0.0615 - val_loss: 0.0376\n",
      "Epoch 18/100\n",
      "\u001b[1m16/16\u001b[0m \u001b[32m━━━━━━━━━━━━━━━━━━━━\u001b[0m\u001b[37m\u001b[0m \u001b[1m1s\u001b[0m 71ms/step - loss: 0.0298 - val_loss: 0.0230\n",
      "Epoch 19/100\n",
      "\u001b[1m16/16\u001b[0m \u001b[32m━━━━━━━━━━━━━━━━━━━━\u001b[0m\u001b[37m\u001b[0m \u001b[1m1s\u001b[0m 72ms/step - loss: 0.0221 - val_loss: 0.0244\n",
      "Epoch 20/100\n",
      "\u001b[1m16/16\u001b[0m \u001b[32m━━━━━━━━━━━━━━━━━━━━\u001b[0m\u001b[37m\u001b[0m \u001b[1m1s\u001b[0m 75ms/step - loss: 0.0383 - val_loss: 0.0683\n",
      "Epoch 21/100\n",
      "\u001b[1m16/16\u001b[0m \u001b[32m━━━━━━━━━━━━━━━━━━━━\u001b[0m\u001b[37m\u001b[0m \u001b[1m1s\u001b[0m 72ms/step - loss: 0.0610 - val_loss: 0.0253\n",
      "Epoch 22/100\n",
      "\u001b[1m16/16\u001b[0m \u001b[32m━━━━━━━━━━━━━━━━━━━━\u001b[0m\u001b[37m\u001b[0m \u001b[1m1s\u001b[0m 72ms/step - loss: 0.0278 - val_loss: 0.0177\n",
      "Epoch 23/100\n",
      "\u001b[1m16/16\u001b[0m \u001b[32m━━━━━━━━━━━━━━━━━━━━\u001b[0m\u001b[37m\u001b[0m \u001b[1m1s\u001b[0m 77ms/step - loss: 0.0144 - val_loss: 0.0092\n",
      "Epoch 24/100\n",
      "\u001b[1m16/16\u001b[0m \u001b[32m━━━━━━━━━━━━━━━━━━━━\u001b[0m\u001b[37m\u001b[0m \u001b[1m1s\u001b[0m 73ms/step - loss: 0.0086 - val_loss: 0.0073\n",
      "Epoch 25/100\n",
      "\u001b[1m16/16\u001b[0m \u001b[32m━━━━━━━━━━━━━━━━━━━━\u001b[0m\u001b[37m\u001b[0m \u001b[1m1s\u001b[0m 77ms/step - loss: 0.0076 - val_loss: 0.0083\n",
      "Epoch 26/100\n",
      "\u001b[1m16/16\u001b[0m \u001b[32m━━━━━━━━━━━━━━━━━━━━\u001b[0m\u001b[37m\u001b[0m \u001b[1m1s\u001b[0m 69ms/step - loss: 0.0078 - val_loss: 0.0061\n",
      "Epoch 27/100\n",
      "\u001b[1m16/16\u001b[0m \u001b[32m━━━━━━━━━━━━━━━━━━━━\u001b[0m\u001b[37m\u001b[0m \u001b[1m1s\u001b[0m 71ms/step - loss: 0.0080 - val_loss: 0.0064\n",
      "Epoch 28/100\n",
      "\u001b[1m16/16\u001b[0m \u001b[32m━━━━━━━━━━━━━━━━━━━━\u001b[0m\u001b[37m\u001b[0m \u001b[1m1s\u001b[0m 78ms/step - loss: 0.0060 - val_loss: 0.0070\n",
      "Epoch 29/100\n",
      "\u001b[1m16/16\u001b[0m \u001b[32m━━━━━━━━━━━━━━━━━━━━\u001b[0m\u001b[37m\u001b[0m \u001b[1m1s\u001b[0m 75ms/step - loss: 0.0062 - val_loss: 0.0049\n",
      "Epoch 30/100\n",
      "\u001b[1m16/16\u001b[0m \u001b[32m━━━━━━━━━━━━━━━━━━━━\u001b[0m\u001b[37m\u001b[0m \u001b[1m1s\u001b[0m 74ms/step - loss: 0.0055 - val_loss: 0.0059\n",
      "Epoch 31/100\n",
      "\u001b[1m16/16\u001b[0m \u001b[32m━━━━━━━━━━━━━━━━━━━━\u001b[0m\u001b[37m\u001b[0m \u001b[1m1s\u001b[0m 72ms/step - loss: 0.0063 - val_loss: 0.0049\n",
      "Epoch 32/100\n",
      "\u001b[1m16/16\u001b[0m \u001b[32m━━━━━━━━━━━━━━━━━━━━\u001b[0m\u001b[37m\u001b[0m \u001b[1m1s\u001b[0m 69ms/step - loss: 0.0052 - val_loss: 0.0051\n",
      "Epoch 33/100\n",
      "\u001b[1m16/16\u001b[0m \u001b[32m━━━━━━━━━━━━━━━━━━━━\u001b[0m\u001b[37m\u001b[0m \u001b[1m1s\u001b[0m 73ms/step - loss: 0.0046 - val_loss: 0.0041\n",
      "Epoch 34/100\n",
      "\u001b[1m16/16\u001b[0m \u001b[32m━━━━━━━━━━━━━━━━━━━━\u001b[0m\u001b[37m\u001b[0m \u001b[1m1s\u001b[0m 72ms/step - loss: 0.0041 - val_loss: 0.0039\n",
      "Epoch 35/100\n",
      "\u001b[1m16/16\u001b[0m \u001b[32m━━━━━━━━━━━━━━━━━━━━\u001b[0m\u001b[37m\u001b[0m \u001b[1m1s\u001b[0m 70ms/step - loss: 0.0040 - val_loss: 0.0038\n",
      "Epoch 36/100\n",
      "\u001b[1m16/16\u001b[0m \u001b[32m━━━━━━━━━━━━━━━━━━━━\u001b[0m\u001b[37m\u001b[0m \u001b[1m1s\u001b[0m 65ms/step - loss: 0.0039 - val_loss: 0.0041\n",
      "Epoch 37/100\n",
      "\u001b[1m16/16\u001b[0m \u001b[32m━━━━━━━━━━━━━━━━━━━━\u001b[0m\u001b[37m\u001b[0m \u001b[1m1s\u001b[0m 64ms/step - loss: 0.0046 - val_loss: 0.0035\n",
      "Epoch 38/100\n",
      "\u001b[1m16/16\u001b[0m \u001b[32m━━━━━━━━━━━━━━━━━━━━\u001b[0m\u001b[37m\u001b[0m \u001b[1m1s\u001b[0m 70ms/step - loss: 0.0045 - val_loss: 0.0041\n",
      "Epoch 39/100\n",
      "\u001b[1m16/16\u001b[0m \u001b[32m━━━━━━━━━━━━━━━━━━━━\u001b[0m\u001b[37m\u001b[0m \u001b[1m1s\u001b[0m 65ms/step - loss: 0.0046 - val_loss: 0.0036\n",
      "Epoch 40/100\n",
      "\u001b[1m16/16\u001b[0m \u001b[32m━━━━━━━━━━━━━━━━━━━━\u001b[0m\u001b[37m\u001b[0m \u001b[1m1s\u001b[0m 74ms/step - loss: 0.0035 - val_loss: 0.0035\n",
      "Epoch 41/100\n",
      "\u001b[1m16/16\u001b[0m \u001b[32m━━━━━━━━━━━━━━━━━━━━\u001b[0m\u001b[37m\u001b[0m \u001b[1m1s\u001b[0m 69ms/step - loss: 0.0034 - val_loss: 0.0033\n",
      "Epoch 42/100\n",
      "\u001b[1m16/16\u001b[0m \u001b[32m━━━━━━━━━━━━━━━━━━━━\u001b[0m\u001b[37m\u001b[0m \u001b[1m1s\u001b[0m 74ms/step - loss: 0.0033 - val_loss: 0.0035\n",
      "Epoch 43/100\n",
      "\u001b[1m16/16\u001b[0m \u001b[32m━━━━━━━━━━━━━━━━━━━━\u001b[0m\u001b[37m\u001b[0m \u001b[1m1s\u001b[0m 72ms/step - loss: 0.0033 - val_loss: 0.0042\n",
      "Epoch 44/100\n",
      "\u001b[1m16/16\u001b[0m \u001b[32m━━━━━━━━━━━━━━━━━━━━\u001b[0m\u001b[37m\u001b[0m \u001b[1m1s\u001b[0m 76ms/step - loss: 0.0034 - val_loss: 0.0033\n",
      "Epoch 45/100\n",
      "\u001b[1m16/16\u001b[0m \u001b[32m━━━━━━━━━━━━━━━━━━━━\u001b[0m\u001b[37m\u001b[0m \u001b[1m1s\u001b[0m 69ms/step - loss: 0.0036 - val_loss: 0.0051\n",
      "Epoch 46/100\n",
      "\u001b[1m16/16\u001b[0m \u001b[32m━━━━━━━━━━━━━━━━━━━━\u001b[0m\u001b[37m\u001b[0m \u001b[1m1s\u001b[0m 66ms/step - loss: 0.0044 - val_loss: 0.0030\n",
      "Epoch 47/100\n",
      "\u001b[1m16/16\u001b[0m \u001b[32m━━━━━━━━━━━━━━━━━━━━\u001b[0m\u001b[37m\u001b[0m \u001b[1m1s\u001b[0m 65ms/step - loss: 0.0031 - val_loss: 0.0033\n",
      "Epoch 48/100\n",
      "\u001b[1m16/16\u001b[0m \u001b[32m━━━━━━━━━━━━━━━━━━━━\u001b[0m\u001b[37m\u001b[0m \u001b[1m1s\u001b[0m 63ms/step - loss: 0.0036 - val_loss: 0.0028\n",
      "Epoch 49/100\n",
      "\u001b[1m16/16\u001b[0m \u001b[32m━━━━━━━━━━━━━━━━━━━━\u001b[0m\u001b[37m\u001b[0m \u001b[1m1s\u001b[0m 66ms/step - loss: 0.0031 - val_loss: 0.0027\n",
      "Epoch 50/100\n",
      "\u001b[1m16/16\u001b[0m \u001b[32m━━━━━━━━━━━━━━━━━━━━\u001b[0m\u001b[37m\u001b[0m \u001b[1m1s\u001b[0m 64ms/step - loss: 0.0027 - val_loss: 0.0033\n",
      "Epoch 51/100\n",
      "\u001b[1m16/16\u001b[0m \u001b[32m━━━━━━━━━━━━━━━━━━━━\u001b[0m\u001b[37m\u001b[0m \u001b[1m1s\u001b[0m 63ms/step - loss: 0.0049 - val_loss: 0.0037\n",
      "Epoch 52/100\n",
      "\u001b[1m16/16\u001b[0m \u001b[32m━━━━━━━━━━━━━━━━━━━━\u001b[0m\u001b[37m\u001b[0m \u001b[1m1s\u001b[0m 64ms/step - loss: 0.0031 - val_loss: 0.0026\n",
      "Epoch 53/100\n",
      "\u001b[1m16/16\u001b[0m \u001b[32m━━━━━━━━━━━━━━━━━━━━\u001b[0m\u001b[37m\u001b[0m \u001b[1m1s\u001b[0m 64ms/step - loss: 0.0032 - val_loss: 0.0027\n",
      "Epoch 54/100\n",
      "\u001b[1m16/16\u001b[0m \u001b[32m━━━━━━━━━━━━━━━━━━━━\u001b[0m\u001b[37m\u001b[0m \u001b[1m1s\u001b[0m 64ms/step - loss: 0.0030 - val_loss: 0.0025\n",
      "Epoch 55/100\n",
      "\u001b[1m16/16\u001b[0m \u001b[32m━━━━━━━━━━━━━━━━━━━━\u001b[0m\u001b[37m\u001b[0m \u001b[1m1s\u001b[0m 65ms/step - loss: 0.0034 - val_loss: 0.0029\n",
      "Epoch 56/100\n",
      "\u001b[1m16/16\u001b[0m \u001b[32m━━━━━━━━━━━━━━━━━━━━\u001b[0m\u001b[37m\u001b[0m \u001b[1m1s\u001b[0m 65ms/step - loss: 0.0033 - val_loss: 0.0077\n",
      "Epoch 57/100\n",
      "\u001b[1m16/16\u001b[0m \u001b[32m━━━━━━━━━━━━━━━━━━━━\u001b[0m\u001b[37m\u001b[0m \u001b[1m1s\u001b[0m 66ms/step - loss: 0.0050 - val_loss: 0.0050\n",
      "Epoch 58/100\n",
      "\u001b[1m16/16\u001b[0m \u001b[32m━━━━━━━━━━━━━━━━━━━━\u001b[0m\u001b[37m\u001b[0m \u001b[1m1s\u001b[0m 67ms/step - loss: 0.0040 - val_loss: 0.0065\n",
      "Epoch 59/100\n",
      "\u001b[1m16/16\u001b[0m \u001b[32m━━━━━━━━━━━━━━━━━━━━\u001b[0m\u001b[37m\u001b[0m \u001b[1m1s\u001b[0m 65ms/step - loss: 0.0048 - val_loss: 0.0023\n",
      "Epoch 60/100\n",
      "\u001b[1m16/16\u001b[0m \u001b[32m━━━━━━━━━━━━━━━━━━━━\u001b[0m\u001b[37m\u001b[0m \u001b[1m1s\u001b[0m 65ms/step - loss: 0.0025 - val_loss: 0.0088\n",
      "Epoch 61/100\n",
      "\u001b[1m16/16\u001b[0m \u001b[32m━━━━━━━━━━━━━━━━━━━━\u001b[0m\u001b[37m\u001b[0m \u001b[1m1s\u001b[0m 64ms/step - loss: 0.0052 - val_loss: 0.0024\n",
      "Epoch 62/100\n",
      "\u001b[1m16/16\u001b[0m \u001b[32m━━━━━━━━━━━━━━━━━━━━\u001b[0m\u001b[37m\u001b[0m \u001b[1m1s\u001b[0m 69ms/step - loss: 0.0028 - val_loss: 0.0043\n",
      "Epoch 63/100\n",
      "\u001b[1m16/16\u001b[0m \u001b[32m━━━━━━━━━━━━━━━━━━━━\u001b[0m\u001b[37m\u001b[0m \u001b[1m1s\u001b[0m 68ms/step - loss: 0.0032 - val_loss: 0.0025\n",
      "Epoch 64/100\n",
      "\u001b[1m16/16\u001b[0m \u001b[32m━━━━━━━━━━━━━━━━━━━━\u001b[0m\u001b[37m\u001b[0m \u001b[1m1s\u001b[0m 69ms/step - loss: 0.0026 - val_loss: 0.0054\n",
      "Epoch 65/100\n",
      "\u001b[1m16/16\u001b[0m \u001b[32m━━━━━━━━━━━━━━━━━━━━\u001b[0m\u001b[37m\u001b[0m \u001b[1m1s\u001b[0m 67ms/step - loss: 0.0041 - val_loss: 0.0022\n",
      "Epoch 66/100\n",
      "\u001b[1m16/16\u001b[0m \u001b[32m━━━━━━━━━━━━━━━━━━━━\u001b[0m\u001b[37m\u001b[0m \u001b[1m1s\u001b[0m 67ms/step - loss: 0.0028 - val_loss: 0.0037\n",
      "Epoch 67/100\n",
      "\u001b[1m16/16\u001b[0m \u001b[32m━━━━━━━━━━━━━━━━━━━━\u001b[0m\u001b[37m\u001b[0m \u001b[1m1s\u001b[0m 66ms/step - loss: 0.0040 - val_loss: 0.0042\n",
      "Epoch 68/100\n",
      "\u001b[1m16/16\u001b[0m \u001b[32m━━━━━━━━━━━━━━━━━━━━\u001b[0m\u001b[37m\u001b[0m \u001b[1m1s\u001b[0m 66ms/step - loss: 0.0036 - val_loss: 0.0038\n",
      "Epoch 69/100\n",
      "\u001b[1m16/16\u001b[0m \u001b[32m━━━━━━━━━━━━━━━━━━━━\u001b[0m\u001b[37m\u001b[0m \u001b[1m1s\u001b[0m 66ms/step - loss: 0.0044 - val_loss: 0.0053\n",
      "Epoch 70/100\n",
      "\u001b[1m16/16\u001b[0m \u001b[32m━━━━━━━━━━━━━━━━━━━━\u001b[0m\u001b[37m\u001b[0m \u001b[1m1s\u001b[0m 71ms/step - loss: 0.0038 - val_loss: 0.0020\n",
      "Epoch 71/100\n",
      "\u001b[1m16/16\u001b[0m \u001b[32m━━━━━━━━━━━━━━━━━━━━\u001b[0m\u001b[37m\u001b[0m \u001b[1m1s\u001b[0m 65ms/step - loss: 0.0028 - val_loss: 0.0021\n",
      "Epoch 72/100\n",
      "\u001b[1m16/16\u001b[0m \u001b[32m━━━━━━━━━━━━━━━━━━━━\u001b[0m\u001b[37m\u001b[0m \u001b[1m1s\u001b[0m 63ms/step - loss: 0.0025 - val_loss: 0.0020\n",
      "Epoch 73/100\n",
      "\u001b[1m16/16\u001b[0m \u001b[32m━━━━━━━━━━━━━━━━━━━━\u001b[0m\u001b[37m\u001b[0m \u001b[1m1s\u001b[0m 64ms/step - loss: 0.0024 - val_loss: 0.0019\n",
      "Epoch 74/100\n",
      "\u001b[1m16/16\u001b[0m \u001b[32m━━━━━━━━━━━━━━━━━━━━\u001b[0m\u001b[37m\u001b[0m \u001b[1m1s\u001b[0m 63ms/step - loss: 0.0018 - val_loss: 0.0026\n",
      "Epoch 75/100\n",
      "\u001b[1m16/16\u001b[0m \u001b[32m━━━━━━━━━━━━━━━━━━━━\u001b[0m\u001b[37m\u001b[0m \u001b[1m1s\u001b[0m 63ms/step - loss: 0.0094 - val_loss: 0.0034\n",
      "Epoch 76/100\n",
      "\u001b[1m16/16\u001b[0m \u001b[32m━━━━━━━━━━━━━━━━━━━━\u001b[0m\u001b[37m\u001b[0m \u001b[1m1s\u001b[0m 65ms/step - loss: 0.0038 - val_loss: 0.0024\n",
      "Epoch 77/100\n",
      "\u001b[1m16/16\u001b[0m \u001b[32m━━━━━━━━━━━━━━━━━━━━\u001b[0m\u001b[37m\u001b[0m \u001b[1m1s\u001b[0m 66ms/step - loss: 0.0028 - val_loss: 0.0019\n",
      "Epoch 78/100\n",
      "\u001b[1m16/16\u001b[0m \u001b[32m━━━━━━━━━━━━━━━━━━━━\u001b[0m\u001b[37m\u001b[0m \u001b[1m1s\u001b[0m 68ms/step - loss: 0.0024 - val_loss: 0.0024\n",
      "Epoch 79/100\n",
      "\u001b[1m16/16\u001b[0m \u001b[32m━━━━━━━━━━━━━━━━━━━━\u001b[0m\u001b[37m\u001b[0m \u001b[1m1s\u001b[0m 68ms/step - loss: 0.0044 - val_loss: 0.0018\n",
      "Epoch 80/100\n",
      "\u001b[1m16/16\u001b[0m \u001b[32m━━━━━━━━━━━━━━━━━━━━\u001b[0m\u001b[37m\u001b[0m \u001b[1m1s\u001b[0m 64ms/step - loss: 0.0033 - val_loss: 0.0020\n",
      "Epoch 81/100\n",
      "\u001b[1m16/16\u001b[0m \u001b[32m━━━━━━━━━━━━━━━━━━━━\u001b[0m\u001b[37m\u001b[0m \u001b[1m1s\u001b[0m 64ms/step - loss: 0.0034 - val_loss: 0.0043\n",
      "Epoch 82/100\n",
      "\u001b[1m16/16\u001b[0m \u001b[32m━━━━━━━━━━━━━━━━━━━━\u001b[0m\u001b[37m\u001b[0m \u001b[1m1s\u001b[0m 65ms/step - loss: 0.0030 - val_loss: 0.0023\n",
      "Epoch 83/100\n",
      "\u001b[1m16/16\u001b[0m \u001b[32m━━━━━━━━━━━━━━━━━━━━\u001b[0m\u001b[37m\u001b[0m \u001b[1m1s\u001b[0m 66ms/step - loss: 0.0022 - val_loss: 0.0113\n",
      "Epoch 84/100\n",
      "\u001b[1m16/16\u001b[0m \u001b[32m━━━━━━━━━━━━━━━━━━━━\u001b[0m\u001b[37m\u001b[0m \u001b[1m1s\u001b[0m 65ms/step - loss: 0.0074 - val_loss: 0.0018\n",
      "Epoch 85/100\n",
      "\u001b[1m16/16\u001b[0m \u001b[32m━━━━━━━━━━━━━━━━━━━━\u001b[0m\u001b[37m\u001b[0m \u001b[1m1s\u001b[0m 67ms/step - loss: 0.0033 - val_loss: 0.0042\n",
      "Epoch 86/100\n",
      "\u001b[1m16/16\u001b[0m \u001b[32m━━━━━━━━━━━━━━━━━━━━\u001b[0m\u001b[37m\u001b[0m \u001b[1m1s\u001b[0m 67ms/step - loss: 0.0027 - val_loss: 0.0030\n",
      "Epoch 87/100\n",
      "\u001b[1m16/16\u001b[0m \u001b[32m━━━━━━━━━━━━━━━━━━━━\u001b[0m\u001b[37m\u001b[0m \u001b[1m1s\u001b[0m 69ms/step - loss: 0.0024 - val_loss: 0.0017\n",
      "Epoch 88/100\n",
      "\u001b[1m16/16\u001b[0m \u001b[32m━━━━━━━━━━━━━━━━━━━━\u001b[0m\u001b[37m\u001b[0m \u001b[1m1s\u001b[0m 77ms/step - loss: 0.0027 - val_loss: 0.0038\n",
      "Epoch 89/100\n",
      "\u001b[1m16/16\u001b[0m \u001b[32m━━━━━━━━━━━━━━━━━━━━\u001b[0m\u001b[37m\u001b[0m \u001b[1m1s\u001b[0m 73ms/step - loss: 0.0052 - val_loss: 0.0039\n",
      "Epoch 90/100\n",
      "\u001b[1m16/16\u001b[0m \u001b[32m━━━━━━━━━━━━━━━━━━━━\u001b[0m\u001b[37m\u001b[0m \u001b[1m1s\u001b[0m 70ms/step - loss: 0.0024 - val_loss: 0.0017\n",
      "Epoch 91/100\n",
      "\u001b[1m16/16\u001b[0m \u001b[32m━━━━━━━━━━━━━━━━━━━━\u001b[0m\u001b[37m\u001b[0m \u001b[1m1s\u001b[0m 78ms/step - loss: 0.0024 - val_loss: 0.0030\n",
      "Epoch 92/100\n",
      "\u001b[1m16/16\u001b[0m \u001b[32m━━━━━━━━━━━━━━━━━━━━\u001b[0m\u001b[37m\u001b[0m \u001b[1m1s\u001b[0m 66ms/step - loss: 0.0034 - val_loss: 0.0018\n",
      "Epoch 93/100\n",
      "\u001b[1m16/16\u001b[0m \u001b[32m━━━━━━━━━━━━━━━━━━━━\u001b[0m\u001b[37m\u001b[0m \u001b[1m1s\u001b[0m 65ms/step - loss: 0.0035 - val_loss: 0.0026\n",
      "Epoch 94/100\n",
      "\u001b[1m16/16\u001b[0m \u001b[32m━━━━━━━━━━━━━━━━━━━━\u001b[0m\u001b[37m\u001b[0m \u001b[1m1s\u001b[0m 72ms/step - loss: 0.0019 - val_loss: 0.0032\n",
      "Epoch 95/100\n",
      "\u001b[1m16/16\u001b[0m \u001b[32m━━━━━━━━━━━━━━━━━━━━\u001b[0m\u001b[37m\u001b[0m \u001b[1m1s\u001b[0m 68ms/step - loss: 0.0051 - val_loss: 0.0031\n",
      "Epoch 96/100\n",
      "\u001b[1m16/16\u001b[0m \u001b[32m━━━━━━━━━━━━━━━━━━━━\u001b[0m\u001b[37m\u001b[0m \u001b[1m1s\u001b[0m 65ms/step - loss: 0.0024 - val_loss: 0.0036\n",
      "Epoch 97/100\n",
      "\u001b[1m16/16\u001b[0m \u001b[32m━━━━━━━━━━━━━━━━━━━━\u001b[0m\u001b[37m\u001b[0m \u001b[1m1s\u001b[0m 70ms/step - loss: 0.0024 - val_loss: 0.0018\n"
     ]
    }
   ],
   "source": [
    "import tensorflow as tf\n",
    "\n",
    "# Fit the model\n",
    "history = model.fit(\n",
    "    X_train_flat, Y_train_combined,\n",
    "    epochs=100,\n",
    "    batch_size=32,\n",
    "    validation_data=(X_test_flat, Y_test_combined),\n",
    "    verbose=1,\n",
    "    callbacks=[\n",
    "        tf.keras.callbacks.EarlyStopping(monitor='val_loss', patience=10),\n",
    "        tf.keras.callbacks.ModelCheckpoint('best_model.keras', save_best_only=True)\n",
    "    ]\n",
    ")"
   ]
  },
  {
   "cell_type": "markdown",
   "metadata": {},
   "source": [
    "##### Model Performance on Test set"
   ]
  },
  {
   "cell_type": "code",
   "execution_count": 23,
   "metadata": {},
   "outputs": [
    {
     "name": "stdout",
     "output_type": "stream",
     "text": [
      "\u001b[1m4/4\u001b[0m \u001b[32m━━━━━━━━━━━━━━━━━━━━\u001b[0m\u001b[37m\u001b[0m \u001b[1m0s\u001b[0m 15ms/step - loss: 0.0039\n"
     ]
    },
    {
     "name": "stdout",
     "output_type": "stream",
     "text": [
      "\u001b[1m16/16\u001b[0m \u001b[32m━━━━━━━━━━━━━━━━━━━━\u001b[0m\u001b[37m\u001b[0m \u001b[1m1s\u001b[0m 10ms/step - loss: 0.0038\n",
      "Test Loss (MSE): 0.0038418076001107693\n",
      "Test Loss (MSE): 0.0038161606062203646\n"
     ]
    }
   ],
   "source": [
    "# Evaluate the model\n",
    "test_loss = model.evaluate(X_test_flat, Y_test_combined, verbose=1)\n",
    "train_loss = model.evaluate(X_train_flat, Y_train_combined, verbose=1)\n",
    "\n",
    "print(f\"Test Loss (MSE): {test_loss}\")\n",
    "print(f\"Test Loss (MSE): {train_loss}\")"
   ]
  },
  {
   "cell_type": "markdown",
   "metadata": {},
   "source": [
    "#### Model Predictions and Visualization"
   ]
  },
  {
   "cell_type": "code",
   "execution_count": null,
   "metadata": {},
   "outputs": [],
   "source": [
    "Y_test_combined"
   ]
  },
  {
   "cell_type": "code",
   "execution_count": 40,
   "metadata": {},
   "outputs": [
    {
     "name": "stdout",
     "output_type": "stream",
     "text": [
      "\u001b[1m4/4\u001b[0m \u001b[32m━━━━━━━━━━━━━━━━━━━━\u001b[0m\u001b[37m\u001b[0m \u001b[1m0s\u001b[0m 12ms/step\n"
     ]
    },
    {
     "data": {
      "image/png": "[encoded data removed]",
      "text/plain": [
       "<Figure size 1400x1000 with 1 Axes>"
      ]
     },
     "metadata": {},
     "output_type": "display_data"
    }
   ],
   "source": [
    "# Make predictions\n",
    "predictions = model.predict(X_test_flat)\n",
    "\n",
    "# Select a sample to visualize\n",
    "actual = Y_test_combined[0]\n",
    "predicted = predictions[0]\n",
    "#print(Y_test_combined[0])\n",
    "#print('1',predictions[0])\n",
    "import matplotlib.pyplot as plt\n",
    "\n",
    "# Plotting the actual vs. predicted values for the first feature\n",
    "plt.figure(figsize=(14, 10))\n",
    "plt.plot(actual[:, 0], label='Actual Values', color='blue')\n",
    "plt.plot(predicted[:, 0], label='Predicted Values', color='red', linestyle='--')\n",
    "plt.title('Comparison of Actual and Predicted Values')\n",
    "plt.xlabel('X')\n",
    "plt.ylabel('Y')\n",
    "plt.legend()\n",
    "plt.show()\n"
   ]
  },
  {
   "cell_type": "markdown",
   "metadata": {},
   "source": [
    "#### R2 and RMSE of LSTM Model"
   ]
  },
  {
   "cell_type": "code",
   "execution_count": 43,
   "metadata": {},
   "outputs": [
    {
     "name": "stdout",
     "output_type": "stream",
     "text": [
      "RMSE for Absorption: 0.04972953729807411\n",
      "RMSE for Energy: 0.03288242645203609\n",
      "R² for Absorption: 0.9914816195004958\n",
      "R² for Energy: 0.9979094336487203\n"
     ]
    }
   ],
   "source": [
    "# Flatten the arrays for metric calculations\n",
    "actual_flat = Y_test_combined.reshape(-1, 2)\n",
    "predicted_flat = predictions.reshape(-1, 2)\n",
    "\n",
    "# Calculate RMSE for each feature, since Absorption is Stacked with Energy ( first is Absorption)\n",
    "rmse_feature_0 = np.sqrt(mean_squared_error(actual_flat[:, 0], predicted_flat[:, 0]))\n",
    "rmse_feature_1 = np.sqrt(mean_squared_error(actual_flat[:, 1], predicted_flat[:, 1]))\n",
    "\n",
    "# Calculate R² for each feature\n",
    "r2_feature_0 = r2_score(actual_flat[:, 0], predicted_flat[:, 0])\n",
    "r2_feature_1 = r2_score(actual_flat[:, 1], predicted_flat[:, 1])\n",
    "\n",
    "print(f'RMSE for Absorption: {rmse_feature_0}')\n",
    "print(f'RMSE for Energy: {rmse_feature_1}')\n",
    "print(f'R² for Absorption: {r2_feature_0}')\n",
    "print(f'R² for Energy: {r2_feature_1}')\n"
   ]
  },
  {
   "cell_type": "markdown",
   "metadata": {},
   "source": [
    "### New Section to trial Absorption prediction\n",
    "extracting all Spectra data files onto combined_df and saving it on 'spectra_data.json'"
   ]
  },
  {
   "cell_type": "code",
   "execution_count": null,
   "metadata": {},
   "outputs": [],
   "source": [
    "import os\n",
    "import glob\n",
    "import pandas as pd\n",
    "import re\n",
    "\n",
    "# List and sort spectra files numerically based on the digits in the filename\n",
    "spectra_files = sorted(\n",
    "    glob.glob(os.path.join(spectra_directory, \"absorption_spectra_*.dat\")),\n",
    "    key=lambda x: int(re.findall(r'\\d+', os.path.basename(x))[0])\n",
    ")\n",
    "\n",
    "# Initialize a list to store data for each spectra\n",
    "spectra_list = []\n",
    "\n",
    "# Load each absorption spectra into separate entries in the list\n",
    "for spectra in spectra_files:\n",
    "    # Read the data from the file\n",
    "    spectra_data = pd.read_csv(spectra, sep='\\\\s+', header=None)\n",
    "    # Separate the columns into two lists: one for energy and one for absorption coefficient\n",
    "    energies = spectra_data[0].tolist()  # Assuming the first column is energy\n",
    "    absorptions = spectra_data[1].tolist()  # Assuming the second column is absorption coefficient\n",
    "    # Get the spectra index from the file name, assuming it ends with .dat and starts after the last underscore\n",
    "    spectra_index = int(re.findall(r'\\d+', os.path.basename(spectra))[0])\n",
    "    # Add a dictionary for the current spectra to the list\n",
    "    spectra_list.append({'Spectra': spectra_index, 'Energy': energies, 'Absorption': absorptions})\n",
    "\n",
    "# Create DataFrame from list of dictionaries\n",
    "combined_df = pd.DataFrame(spectra_list)\n",
    "\n",
    "# Sort the DataFrame by 'Spectra' column to ensure it is in the correct order\n",
    "combined_df.sort_values('Spectra', inplace=True)\n",
    "\n",
    "# Convert DataFrame to JSON format\n",
    "output_path = os.path.join(spectra_directory, \"spectra_data.json\")\n",
    "combined_df.to_json(output_path, orient='records', indent=4)\n",
    "\n",
    "# Print confirmation that the file has been saved\n",
    "print(f\"Spectra data saved to {output_path}\")\n"
   ]
  },
  {
   "cell_type": "code",
   "execution_count": null,
   "metadata": {},
   "outputs": [],
   "source": [
    "# List and sort spectra files numerically based on the digits in the filename\n",
    "spectra_files = sorted(\n",
    "    glob.glob(os.path.join(spectra_directory, \"absorption_spectra_*.dat\")),\n",
    "    key=lambda x: int(re.findall(r'\\d+', os.path.basename(x))[0])\n",
    ")\n",
    "\n",
    "#Loading bandgap to act as threshold cutoff to find urbach tail\n",
    "bandgap = pd.read_csv(os.path.join(features_directory,'all_bandgap.csv'))\n",
    "\n",
    "# Initialize a list to store data for each spectra\n",
    "spectra_list = []\n",
    "\n",
    "# Load each absorption spectra into separate entries in the list\n",
    "for i, spectra in enumerate(spectra_files):\n",
    "    # Read the data from the file\n",
    "    spectra_data = pd.read_csv(spectra, sep='\\\\s+', header=None)\n",
    "    # Separate the columns into two lists: one for energy and one for absorption coefficient\n",
    "    energies = spectra_data[0].tolist()\n",
    "    absorptions = spectra_data[1].tolist()\n",
    "    \n",
    "    # Get the bandgap value for the corresponding spectrum\n",
    "    bg_value = bandgap.loc[i, 'Bandgap/eV']\n",
    "    \n",
    "    # Filter out energy values up to a few eV above Bandgap\n",
    "    filtered_energies = [e for e in energies if e <= (bg_value + 0.5)]\n",
    "    # Corresponding absorption values must also be filtered\n",
    "    filtered_absorptions = [absorptions[j] for j, e in enumerate(energies) if e <= (bg_value + 0.5)]\n",
    "    \n",
    "    # Add a dictionary for the current spectra to the list\n",
    "    spectra_list.append({\n",
    "        'Spectra': int(re.findall(r'\\d+', os.path.basename(spectra))[0]),\n",
    "        'Energy': filtered_energies,\n",
    "        'Absorption': filtered_absorptions\n",
    "    })\n",
    "\n",
    "# Create DataFrame from list of dictionaries\n",
    "cutoff_spectra_df = pd.DataFrame(spectra_list)\n",
    "\n",
    "#combining 'bandgap' DataFrame and filtered_spectra_df\n",
    "cutoff_spectra_df['Bandgap'] = bandgap['Bandgap/eV']\n",
    "\n",
    "# Define the path where you want to save the excel file\n",
    "output_path = os.path.join(spectra_directory,'cutoff_spectra.csv')\n",
    "\n",
    "# Save the combined DataFrame \n",
    "cutoff_spectra_df.to_csv(output_path,index=True)\n",
    "\n",
    "print(cutoff_spectra_df.head(1))"
   ]
  },
  {
   "cell_type": "markdown",
   "metadata": {},
   "source": [
    "#### Visualising Log(abs) against Energy Plot (Original Plot)"
   ]
  },
  {
   "cell_type": "code",
   "execution_count": null,
   "metadata": {},
   "outputs": [],
   "source": [
    "# Load the dataset\n",
    "cutoff_spectra_df = pd.read_csv(os.path.join(spectra_directory,'cutoff_spectra.csv'), index_col=0)\n",
    "\n",
    "# User input for which spectrum to display\n",
    "number = input(\"Which spectra would you like to see: \")\n",
    "selected_spectrum = cutoff_spectra_df.iloc[int(number)]\n",
    "\n",
    "# Use literal_eval to convert string representations into actual lists\n",
    "energy_values = ast.literal_eval(selected_spectrum['Energy'])\n",
    "absorption_values = ast.literal_eval(selected_spectrum['Absorption'])\n",
    "\n",
    "# Create the plot\n",
    "plt.figure(figsize=(10, 6))\n",
    "plt.plot(energy_values, absorption_values, marker='o',markersize=2, linestyle='-', color='b')\n",
    "plt.title(f'Absorption Spectrum {number}')\n",
    "plt.xlabel('Energy (eV)')\n",
    "plt.ylabel('Log Absorption Coefficient')\n",
    "plt.yscale('log')\n",
    "#Optional Zoom between x-range\n",
    "plt.xlim(1.5, 2.2)\n",
    "#Optional Zoom between y-range\n",
    "#plt.ylim(0,4)\n",
    "\n",
    "plt.grid(True)\n",
    "plt.show()\n"
   ]
  },
  {
   "cell_type": "markdown",
   "metadata": {},
   "source": [
    "#### Creating a Log(abs) column"
   ]
  },
  {
   "cell_type": "code",
   "execution_count": null,
   "metadata": {},
   "outputs": [],
   "source": [
    "import ast\n",
    "\n",
    "# Function to convert string to list, as Energy/Absorption columns are strings.\n",
    "#Need to convert before manipulation\n",
    "def string_to_list(i):\n",
    "    return ast.literal_eval(i)\n",
    "\n",
    "cutoff_spectra_df['Absorption'] = cutoff_spectra_df['Absorption'].apply(string_to_list)\n",
    "cutoff_spectra_df['Energy'] = cutoff_spectra_df['Energy'].apply(string_to_list)\n",
    "\n",
    "# logarithm function that ensures no -infinite when log(0)\n",
    "def logging(arr):\n",
    "    arr = np.array(arr) + 1e-9  # Adjust non-positive values\n",
    "    return np.log(arr)\n",
    "\n",
    "cutoff_spectra_df['log_absorption'] = cutoff_spectra_df['Absorption'].apply(logging)\n",
    "spectra2 = cutoff_spectra_df "
   ]
  },
  {
   "cell_type": "markdown",
   "metadata": {},
   "source": [
    "##### Calculating Gradient"
   ]
  },
  {
   "cell_type": "code",
   "execution_count": null,
   "metadata": {},
   "outputs": [],
   "source": [
    "energies = spectra2['Energy']\n",
    "absorptions = spectra2['log_absorption']\n",
    "\n",
    "#Padding length 100 points, can be adjusted\n",
    "max_length = 100 \n",
    "energy_padded = pad_sequences(energies, maxlen=max_length, dtype='float32', padding='post')\n",
    "absorption_padded = pad_sequences(absorptions, maxlen=max_length, dtype='float32', padding='post')\n",
    "\n",
    "# Prepare target array, Y\n",
    "Y = np.stack((energy_padded, absorption_padded), axis=-1) \n",
    "\n",
    "energy_padded = np.array(energy_padded)\n",
    "absorption_padded = np.array(absorption_padded)\n",
    "\n",
    "gradient = np.zeros_like(absorption_padded)\n",
    "\n",
    "# Compute the gradient for each spectrum\n",
    "for i in range(energy_padded.shape[0]):\n",
    "    gradient[i] = np.gradient(absorption_padded[i], energy_padded[i])\n",
    "\n",
    "print(gradient[:1])"
   ]
  },
  {
   "cell_type": "markdown",
   "metadata": {},
   "source": [
    "##### Visualizaing Gradient of Spectrum"
   ]
  },
  {
   "cell_type": "code",
   "execution_count": null,
   "metadata": {},
   "outputs": [],
   "source": [
    "# Choosing which spectrum to check\n",
    "index = 120\n",
    "\n",
    "plt.figure(figsize=(10, 6))\n",
    "\n",
    "# Plot log(Absorption Coefficient) vs Energy\n",
    "plt.scatter(energy_padded[index], absorption_padded[index], label='log(Absorption Coefficient)', color='blue', s=10)\n",
    "\n",
    "# Plotting the gradient\n",
    "plt.scatter(energy_padded[index], gradient[index], label='First Derivative', color='red', s=10)\n",
    "\n",
    "plt.xlabel('Energy (eV)')\n",
    "plt.ylabel('Value')\n",
    "plt.title(f'log(Absorption Coefficient) and its First Derivative (Spectrum {index})')\n",
    "plt.legend()\n",
    "plt.grid(True)\n",
    "plt.show()"
   ]
  },
  {
   "cell_type": "markdown",
   "metadata": {},
   "source": [
    "##### Calculating slope"
   ]
  },
  {
   "cell_type": "code",
   "execution_count": null,
   "metadata": {},
   "outputs": [],
   "source": [
    "slope = np.zeros_like(absorption_padded)\n",
    "\n",
    "# Compute the second derivatives for each spectrum\n",
    "for i in range(energy_padded.shape[0]):\n",
    "    slope[i] = np.gradient(gradient[i], energy_padded[i])\n",
    "\n",
    "print(slope[:1])"
   ]
  },
  {
   "cell_type": "markdown",
   "metadata": {},
   "source": [
    "##### Visualizing the slope of the spectrum"
   ]
  },
  {
   "cell_type": "code",
   "execution_count": null,
   "metadata": {},
   "outputs": [],
   "source": [
    "index = 120\n",
    "\n",
    "plt.figure(figsize=(10, 6))\n",
    "\n",
    "# Plot log(Absorption Coefficient) vs Energy with smaller points\n",
    "plt.scatter(energy_padded[index], absorption_padded[index], label='log(Absorption Coefficient)', color='blue', s=10)\n",
    "\n",
    "# Plot the second derivative with smaller points\n",
    "plt.scatter(energy_padded[index], slope[index], label='Second Derivative', color='green', s=10)\n",
    "\n",
    "plt.xlabel('Energy (eV)')\n",
    "plt.ylabel('Value')\n",
    "plt.title(f'log(Absorption Coefficient), Second Derivatives (Spectrum {index})')\n",
    "plt.legend()\n",
    "plt.grid(True)\n",
    "plt.show()"
   ]
  },
  {
   "cell_type": "markdown",
   "metadata": {},
   "source": [
    "##### X/Y Train Test Split"
   ]
  },
  {
   "cell_type": "code",
   "execution_count": null,
   "metadata": {},
   "outputs": [],
   "source": [
    "bandgap = np.array(spectra2['Bandgap'])\n",
    "bandgap_repeated = np.repeat(bandgap[:, np.newaxis], energy_padded.shape[1], axis=1)\n",
    "\n",
    "above_bandgap = (energy_padded > bandgap_repeated).astype(float)\n",
    "\n",
    "#Stacking all features together for X\n",
    "X = np.stack([gradient, slope, bandgap_repeated,above_bandgap], axis=-1)\n",
    "#Y has been defined a few steps above\n",
    "\n",
    "#Checking 638 rows, 100 step, 3 features\n",
    "print(X.shape)\n",
    "\n",
    "scaler = StandardScaler()\n",
    "X_scaled = scaler.fit_transform(X.reshape(-1, X.shape[-1])).reshape(X.shape)\n",
    "\n",
    "X_train, X_test, Y_train, Y_test = train_test_split(X_scaled,Y, test_size = 0.2, random_state = 100)\n",
    "\n",
    "bandgap_train = bandgap_repeated[:X_train.shape[0], 0].reshape(-1, 1)\n",
    "bandgap_test = bandgap_repeated[:X_test.shape[0], 0].reshape(-1, 1)"
   ]
  },
  {
   "cell_type": "markdown",
   "metadata": {},
   "source": [
    "#### Define LSTM Model from tensorflow "
   ]
  },
  {
   "cell_type": "code",
   "execution_count": null,
   "metadata": {},
   "outputs": [],
   "source": [
    "from tensorflow.keras.layers import Layer\n",
    "import tensorflow as tf\n",
    "\n",
    "class ExpandTileLayer(Layer):\n",
    "    def __init__(self, time_steps, **kwargs):\n",
    "        super().__init__(**kwargs)\n",
    "        self.time_steps = time_steps\n",
    "\n",
    "    def call(self, bandgap_input):\n",
    "        bandgap_expanded = tf.expand_dims(bandgap_input, axis=1)\n",
    "        bandgap_tiled = tf.tile(bandgap_expanded, [1, self.time_steps, 1])\n",
    "        return bandgap_tiled\n",
    "\n",
    "    def get_config(self):\n",
    "        config = super().get_config()\n",
    "        config.update({\"time_steps\": self.time_steps})\n",
    "        return config\n"
   ]
  },
  {
   "cell_type": "code",
   "execution_count": null,
   "metadata": {},
   "outputs": [],
   "source": [
    "from tensorflow.keras.layers import Input, LSTM, Dense, Dropout, TimeDistributed, Concatenate\n",
    "from tensorflow.keras.models import Model\n",
    "\n",
    "# Define the input shapes\n",
    "input_shape = (X_train.shape[1], X_train.shape[2])\n",
    "\n",
    "# Inputs\n",
    "main_input = Input(shape=input_shape, name='main_input')\n",
    "bandgap_input = Input(shape=(1,), name='bandgap_input')\n",
    "\n",
    "# LSTM layers\n",
    "x = LSTM(100, return_sequences=True)(main_input)\n",
    "x = Dropout(0.2)(x)\n",
    "x = LSTM(100, return_sequences=True)(x)\n",
    "x = Dropout(0.2)(x)\n",
    "x = LSTM(100, return_sequences=True)(x)\n",
    "\n",
    "# Expand and tile the bandgap input to match the time steps\n",
    "bandgap_tiled = ExpandTileLayer(time_steps=input_shape[0])(bandgap_input)\n",
    "\n",
    "# Concatenate bandgap input to every timestep\n",
    "x = Concatenate()([x, bandgap_tiled])\n",
    "\n",
    "# TimeDistributed layer\n",
    "output = TimeDistributed(Dense(2))(x)\n",
    "\n",
    "# Define the model\n",
    "model = Model(inputs=[main_input, bandgap_input], outputs=output)\n",
    "\n",
    "model.summary()"
   ]
  },
  {
   "cell_type": "markdown",
   "metadata": {},
   "source": [
    "#### Creating custom loss function"
   ]
  },
  {
   "cell_type": "code",
   "execution_count": null,
   "metadata": {},
   "outputs": [],
   "source": [
    "import tensorflow as tf\n",
    "from tensorflow.keras.losses import MeanSquaredError\n",
    "\n",
    "# Define the custom loss function\n",
    "class CustomLoss(tf.keras.losses.Loss):\n",
    "    def __init__(self):\n",
    "        super().__init__()\n",
    "        self.mse = MeanSquaredError()\n",
    "\n",
    "    def call(self, y_true, y_pred):\n",
    "        # Extract energy and absorption values from y_true and y_pred\n",
    "        energy_true = y_true[:, :, 0]\n",
    "        absorption_true = y_true[:, :, 1]\n",
    "        energy_pred = y_pred[:, :, 0]\n",
    "        absorption_pred = y_pred[:, :, 1]\n",
    "\n",
    "        # Extract bandgap from y_pred (last channel)\n",
    "        bandgap = y_pred[:, :, -1]\n",
    "\n",
    "        # Create a mask where energy values are above the bandgap\n",
    "        mask = tf.cast(energy_true >= bandgap, tf.float32)\n",
    "\n",
    "        # Calculate the MSE loss for energy and absorption, applying the mask\n",
    "        energy_loss = self.mse(energy_true, energy_pred) * mask\n",
    "        absorption_loss = self.mse(absorption_true, absorption_pred) * mask\n",
    "\n",
    "        # Combine the losses\n",
    "        total_loss = energy_loss + absorption_loss\n",
    "\n",
    "        # Return the mean loss\n",
    "        return tf.reduce_mean(total_loss)\n"
   ]
  },
  {
   "cell_type": "code",
   "execution_count": null,
   "metadata": {},
   "outputs": [],
   "source": [
    "# Custom training step\n",
    "@tf.function\n",
    "def train_step(model, main_input, bandgap_input, targets, optimizer, loss_fn):\n",
    "    with tf.GradientTape() as tape:\n",
    "        predictions = model([main_input, bandgap_input], training=True)\n",
    "        loss = loss_fn(targets, predictions)\n",
    "    gradients = tape.gradient(loss, model.trainable_variables)\n",
    "    optimizer.apply_gradients(zip(gradients, model.trainable_variables))\n",
    "    return loss\n"
   ]
  },
  {
   "cell_type": "markdown",
   "metadata": {},
   "source": [
    "##### Training the LSTM model"
   ]
  },
  {
   "cell_type": "code",
   "execution_count": null,
   "metadata": {},
   "outputs": [],
   "source": [
    "import numpy as np\n",
    "import tensorflow as tf\n",
    "\n",
    "# Data\n",
    "main_input_train = X_train\n",
    "bandgap_input_train = bandgap_train\n",
    "targets_train = Y_train\n",
    "\n",
    "# Custom loss function instance\n",
    "loss_fn = CustomLoss()\n",
    "\n",
    "# Optimizer\n",
    "optimizer = tf.keras.optimizers.Adam()\n",
    "\n",
    "# Training\n",
    "epochs = 100\n",
    "batch_size = 32\n",
    "\n",
    "# Create the dataset\n",
    "dataset = tf.data.Dataset.from_tensor_slices(((main_input_train, bandgap_input_train), targets_train))\n",
    "dataset = dataset.batch(batch_size)\n",
    "\n",
    "# Training loop\n",
    "for epoch in range(epochs):\n",
    "    print(f'Epoch {epoch + 1}/{epochs}')\n",
    "    for step, ((batch_main_input, batch_bandgap_input), batch_targets) in enumerate(dataset):\n",
    "        loss = train_step(model, batch_main_input, batch_bandgap_input, batch_targets, optimizer, loss_fn)\n",
    "        print(f'Step {step + 1}, Loss: {loss.numpy()}')\n",
    "\n",
    "# Evaluation\n",
    "main_input_test = X_test\n",
    "bandgap_input_test = bandgap_test\n",
    "test_loss = loss_fn(Y_test, model([main_input_test, bandgap_input_test]))\n",
    "print(f'Test Loss: {test_loss.numpy()}')\n",
    "\n",
    "# Prediction\n",
    "Y_pred = model([main_input_test, bandgap_input_test])\n"
   ]
  },
  {
   "cell_type": "code",
   "execution_count": null,
   "metadata": {},
   "outputs": [],
   "source": [
    "import matplotlib.pyplot as plt\n",
    "\n",
    "# Choose the number of examples to visualize\n",
    "n_examples = 3\n",
    "\n",
    "# Plot the energy against absorption for a few examples\n",
    "fig, axes = plt.subplots(n_examples, 1, figsize=(10, 15))\n",
    "\n",
    "for i in range(n_examples):\n",
    "    # Plot the true energy vs absorption values\n",
    "    axes[i].plot(Y_test[i, :, 0], Y_test[i, :, 1], label='True', color='blue', marker='o')\n",
    "    # Plot the predicted energy vs absorption values\n",
    "    axes[i].plot(Y_pred[i, :, 0], Y_pred[i, :, 1], label='Predicted', color='red', linestyle='--')\n",
    "    axes[i].set_xlabel('Energy (eV)')\n",
    "    axes[i].set_ylabel('Absorption')\n",
    "    axes[i].legend()\n",
    "    axes[i].set_title(f'Sample {i+1} - Energy vs Absorption')\n",
    "\n",
    "plt.tight_layout()\n",
    "plt.show()\n"
   ]
  }
 ],
 "metadata": {
  "kernelspec": {
   "display_name": "Python 3",
   "language": "python",
   "name": "python3"
  },
  "language_info": {
   "codemirror_mode": {
    "name": "ipython",
    "version": 3
   },
   "file_extension": ".py",
   "mimetype": "text/x-python",
   "name": "python",
   "nbconvert_exporter": "python",
   "pygments_lexer": "ipython3",
   "version": "3.12.2"
  }
 },
 "nbformat": 4,
 "nbformat_minor": 2
}
